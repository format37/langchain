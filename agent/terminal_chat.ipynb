{
 "cells": [
  {
   "cell_type": "code",
   "execution_count": 9,
   "id": "580c84c2-883a-42b9-971a-8a5fe485881c",
   "metadata": {},
   "outputs": [],
   "source": [
    "# https://arize.com/blog-course/react-agent-llm/"
   ]
  },
  {
   "cell_type": "code",
   "execution_count": 12,
   "id": "c087d903-7e8f-40f6-8a8d-a5881291e441",
   "metadata": {},
   "outputs": [],
   "source": [
    "from langchain.agents import load_tools\n",
    "from langchain.agents import initialize_agent\n",
    "# from langchain.llms import OpenAI\n",
    "\n",
    "from langchain import hub\n",
    "from langchain.agents import AgentExecutor, create_structured_chat_agent\n",
    "from langchain_community.chat_models import ChatOpenAI\n",
    "from langchain_community.tools.tavily_search import TavilySearchResults"
   ]
  },
  {
   "cell_type": "code",
   "execution_count": 3,
   "id": "5be8fed5-f3dc-422f-8a1c-d8a5940d168b",
   "metadata": {},
   "outputs": [],
   "source": [
    "import os\n",
    "os.environ[\"OPENAI_API_KEY\"] = \"...\" # https://platform.openai.com/"
   ]
  },
  {
   "cell_type": "code",
   "execution_count": 10,
   "id": "903fc9d7-c8bf-4d45-93e1-bfa22b3bd2d6",
   "metadata": {},
   "outputs": [],
   "source": [
    "# !pip install langchain-experimental"
   ]
  },
  {
   "cell_type": "code",
   "execution_count": 4,
   "id": "4d623f6a-5b25-4ce0-89d3-031851c66012",
   "metadata": {},
   "outputs": [],
   "source": [
    "# llm = OpenAI(temperature=0) #Temp = 0 generally means less hallucinations and a more deterministic model\n",
    "# https://platform.openai.com/docs/models/model-endpoint-compatibility\n",
    "# llm = OpenAI(model=\"gpt-3.5-turbo-instruct\") # /v1/completions (Legacy)\n",
    "# llm = OpenAI(model=\"gpt-4-1106-preview\", temperature=0)\n",
    "# llm = OpenAI(model=\"gpt-3.5-turbo-0301\", temperature=0)\n",
    "# Choose the LLM that will drive the agent\n",
    "llm = ChatOpenAI(temperature=0, model=\"gpt-3.5-turbo-1106\")\n",
    "\n",
    "#Tools are functions that agents can use to interact with the world. These tools can be generic utilities (e.g. search), other chains, or even other agents.\n",
    "tools = load_tools([\"terminal\"], llm=llm) #The tools the agent will have access to are: [Google search, math, wikipedia, terminal]"
   ]
  },
  {
   "cell_type": "code",
   "execution_count": 5,
   "id": "43903512-43cd-461c-a16b-71a1ef8a4deb",
   "metadata": {},
   "outputs": [
    {
     "data": {
      "text/plain": [
       "'gpt-3.5-turbo-1106'"
      ]
     },
     "execution_count": 5,
     "metadata": {},
     "output_type": "execute_result"
    }
   ],
   "source": [
    "llm.model_name"
   ]
  },
  {
   "cell_type": "code",
   "execution_count": 20,
   "id": "8aa34180-f3a8-42bc-8782-1c24f4bd3d46",
   "metadata": {},
   "outputs": [
    {
     "name": "stdout",
     "output_type": "stream",
     "text": [
      "input_variables=['agent_scratchpad', 'input', 'tool_names', 'tools'] input_types={'chat_history': typing.List[typing.Union[langchain_core.messages.ai.AIMessage, langchain_core.messages.human.HumanMessage, langchain_core.messages.chat.ChatMessage, langchain_core.messages.system.SystemMessage, langchain_core.messages.function.FunctionMessage, langchain_core.messages.tool.ToolMessage]]} messages=[SystemMessagePromptTemplate(prompt=PromptTemplate(input_variables=['tool_names', 'tools'], template='Respond to the human as helpfully and accurately as possible. You have access to the following tools:\\n\\n{tools}\\n\\nUse a json blob to specify a tool by providing an action key (tool name) and an action_input key (tool input).\\n\\nValid \"action\" values: \"Final Answer\" or {tool_names}\\n\\nProvide only ONE action per $JSON_BLOB, as shown:\\n\\n```\\n{{\\n  \"action\": $TOOL_NAME,\\n  \"action_input\": $INPUT\\n}}\\n```\\n\\nFollow this format:\\n\\nQuestion: input question to answer\\nThought: consider previous and subsequent steps\\nAction:\\n```\\n$JSON_BLOB\\n```\\nObservation: action result\\n... (repeat Thought/Action/Observation N times)\\nThought: I know what to respond\\nAction:\\n```\\n{{\\n  \"action\": \"Final Answer\",\\n  \"action_input\": \"Final response to human\"\\n}}\\n\\nBegin! Reminder to ALWAYS respond with a valid json blob of a single action. Use tools if necessary. Respond directly if appropriate. Format is Action:```$JSON_BLOB```then Observation')), MessagesPlaceholder(variable_name='chat_history', optional=True), HumanMessagePromptTemplate(prompt=PromptTemplate(input_variables=['agent_scratchpad', 'input'], template='{input}\\n\\n{agent_scratchpad}\\n (reminder to respond in a JSON blob no matter what)'))]\n"
     ]
    }
   ],
   "source": [
    "# Get the prompt to use - you can modify this!\n",
    "prompt = hub.pull(\"hwchase17/structured-chat-agent\")\n",
    "print(prompt)"
   ]
  },
  {
   "cell_type": "code",
   "execution_count": 39,
   "id": "4236f5ce-c50f-4a16-8f7f-b946a4056c7b",
   "metadata": {},
   "outputs": [
    {
     "name": "stdout",
     "output_type": "stream",
     "text": [
      "input_variables=['agent_scratchpad', 'input', 'tool_names', 'tools'] template='Assist user the best you can. You have access to the following optional tools:\\n\\nterminal: Run shell commands on this Linux machine.\\n\\nUse the following format:\\n\\nQuestion: the input question you must answer\\nThought: you should always think about what to do\\nAction: the action to take, should be one of [terminal]\\nAction Input: the input to the action\\nObservation: the result of the action\\n... (this Thought/Action/Action Input/Observation can repeat N times)\\nThought: I now know the final answer\\nFinal Answer: the final answer to the original input question\\n\\nBegin! Remember that you can use  run for calling the terminal.\\n\\nQuestion: {input}\\n{agent_scratchpad}\\n{tool_names}\\n{tools}'\n"
     ]
    }
   ],
   "source": [
    "from langchain.agents import ZeroShotAgent, Tool, AgentExecutor\n",
    "from langchain import OpenAI, SerpAPIWrapper, LLMChain\n",
    "\n",
    "prefix = \"\"\"Assist user the best you can. You have access to the following optional tools:\"\"\"\n",
    "suffix = \"\"\"Begin! Remember that you can use  run for calling the terminal.\n",
    "\n",
    "Question: {input}\n",
    "{agent_scratchpad}\n",
    "{tool_names}\n",
    "{tools}\"\"\"\n",
    "\n",
    "prompt = ZeroShotAgent.create_prompt(\n",
    "   tools, prefix=prefix, suffix=suffix, input_variables=[\"input\", \"agent_scratchpad\", 'tool_names', 'tools']\n",
    ")\n",
    "print(prompt)"
   ]
  },
  {
   "cell_type": "code",
   "execution_count": 14,
   "id": "e97a0b8a-4fb8-4bef-ac01-9f0dfe0df5a6",
   "metadata": {},
   "outputs": [],
   "source": [
    "# zero-shot-react-description\n",
    "\"\"\"agent = initialize_agent(tools,\n",
    "                         llm,\n",
    "                         agent=\"zero-shot-react-description\",\n",
    "                         verbose=True)\"\"\"\n",
    "\n",
    "# conversational-react-description\n",
    "\"\"\"agent = initialize_agent(tools,\n",
    "                         llm,\n",
    "                         agent=\"conversational-react-description\",\n",
    "                         verbose=True)\"\"\"\n",
    "\n"
   ]
  },
  {
   "cell_type": "code",
   "execution_count": 40,
   "id": "e7f39590-5a00-434e-af68-57668384c32a",
   "metadata": {},
   "outputs": [
    {
     "data": {
      "text/plain": [
       "('terminal', 'Run shell commands on this Linux machine.')"
      ]
     },
     "execution_count": 40,
     "metadata": {},
     "output_type": "execute_result"
    }
   ],
   "source": [
    "tools[0].name, tools[0].description"
   ]
  },
  {
   "cell_type": "code",
   "execution_count": 41,
   "id": "a0ae9795-17bb-4157-82c3-e97fb0ed3391",
   "metadata": {},
   "outputs": [],
   "source": [
    "import warnings\n",
    "\n",
    "# Suppress UserWarnings\n",
    "warnings.filterwarnings('ignore', category=UserWarning)"
   ]
  },
  {
   "cell_type": "code",
   "execution_count": 42,
   "id": "9dfbc261-3b07-4365-9cb3-649693716ea6",
   "metadata": {},
   "outputs": [],
   "source": [
    "# Chat\n",
    "agent = create_structured_chat_agent(llm, tools, prompt)\n",
    "\n",
    "# Create an agent executor by passing in the agent and tools\n",
    "agent_executor = AgentExecutor(\n",
    "    agent=agent, tools=tools, verbose=True, handle_parsing_errors=True\n",
    ")"
   ]
  },
  {
   "cell_type": "code",
   "execution_count": 43,
   "id": "f1c18ab1-5ceb-4c57-913e-3eff2512cbef",
   "metadata": {},
   "outputs": [
    {
     "name": "stdout",
     "output_type": "stream",
     "text": [
      "\n",
      "\n",
      "\u001b[1m> Entering new AgentExecutor chain...\u001b[0m\n",
      "\u001b[32;1m\u001b[1;3mCould not parse LLM output: Action Input: date\n",
      "\u001b[0mInvalid or incomplete response\u001b[32;1m\u001b[1;3mCould not parse LLM output: Action Input: ls\n",
      "\n",
      "\u001b[0mInvalid or incomplete response\u001b[32;1m\u001b[1;3mCould not parse LLM output: I apologize for the confusion. It seems there was an issue with retrieving the date and the list of the current directory. Let me try running the commands in the terminal to get the information.\n",
      "\n",
      "Action: terminal\n",
      "Action Input: ['date', 'ls']\n",
      "\n",
      "\u001b[0mInvalid or incomplete response\u001b[32;1m\u001b[1;3mCould not parse LLM output: Final Answer: I apologize, but I was unable to retrieve the date and the list of the current directory.\u001b[0mInvalid or incomplete response\u001b[32;1m\u001b[1;3mCould not parse LLM output: I apologize, but it seems there is an issue with retrieving the date and the list of the current directory. I will need to troubleshoot this further.\u001b[0mInvalid or incomplete response\u001b[32;1m\u001b[1;3mCould not parse LLM output: I apologize, but it seems there is an issue with retrieving the date and the list of the current directory. I will need to troubleshoot this further.\u001b[0mInvalid or incomplete response\u001b[32;1m\u001b[1;3mCould not parse LLM output: I apologize, but it seems there is an issue with retrieving the date and the list of the current directory. I will need to troubleshoot this further.\u001b[0mInvalid or incomplete response\u001b[32;1m\u001b[1;3mCould not parse LLM output: I apologize, but it seems there is an issue with retrieving the date and the list of the current directory. I will need to troubleshoot this further.\u001b[0mInvalid or incomplete response\u001b[32;1m\u001b[1;3mCould not parse LLM output: Final Answer: I apologize, but I was unable to retrieve the date and the list of the current directory. It seems there is an issue with retrieving this information.\u001b[0mInvalid or incomplete response\u001b[32;1m\u001b[1;3mCould not parse LLM output: I apologize, but it seems there is an issue with retrieving the date and the list of the current directory. I will need to troubleshoot this further.\u001b[0mInvalid or incomplete response\u001b[32;1m\u001b[1;3mCould not parse LLM output: I apologize, but it seems there is an issue with retrieving the date and the list of the current directory. I will need to troubleshoot this further.\u001b[0mInvalid or incomplete response\u001b[32;1m\u001b[1;3mCould not parse LLM output: I apologize, but it seems there is an issue with retrieving the date and the list of the current directory. I will need to troubleshoot this further.\u001b[0mInvalid or incomplete response\u001b[32;1m\u001b[1;3mCould not parse LLM output: I apologize, but it seems there is an issue with retrieving the date and the list of the current directory. I will need to troubleshoot this further.\u001b[0mInvalid or incomplete response\u001b[32;1m\u001b[1;3mCould not parse LLM output: I apologize, but it seems there is an issue with retrieving the date and the list of the current directory. I will need to troubleshoot this further.\u001b[0mInvalid or incomplete response\u001b[32;1m\u001b[1;3mCould not parse LLM output: I apologize, but it seems there is an issue with retrieving the date and the list of the current directory. I will need to troubleshoot this further.\u001b[0mInvalid or incomplete response\u001b[32;1m\u001b[1;3m\u001b[0m\n",
      "\n",
      "\u001b[1m> Finished chain.\u001b[0m\n"
     ]
    },
    {
     "data": {
      "text/plain": [
       "{'input': 'Check the date and the list of the current directory',\n",
       " 'output': 'Agent stopped due to iteration limit or time limit.'}"
      ]
     },
     "execution_count": 43,
     "metadata": {},
     "output_type": "execute_result"
    }
   ],
   "source": [
    "agent_executor.invoke({\"input\": \"Check the date and the list of the current directory\"})"
   ]
  },
  {
   "cell_type": "code",
   "execution_count": 37,
   "id": "6d21e8f7-4a08-4baa-b9b1-4a9cf92680e3",
   "metadata": {},
   "outputs": [
    {
     "ename": "ValueError",
     "evalue": "`run` not supported when there is not exactly one output key. Got [].",
     "output_type": "error",
     "traceback": [
      "\u001b[0;31m---------------------------------------------------------------------------\u001b[0m",
      "\u001b[0;31mValueError\u001b[0m                                Traceback (most recent call last)",
      "Cell \u001b[0;32mIn[37], line 1\u001b[0m\n\u001b[0;32m----> 1\u001b[0m \u001b[43magent_executor\u001b[49m\u001b[38;5;241;43m.\u001b[39;49m\u001b[43mrun\u001b[49m\u001b[43m(\u001b[49m\u001b[38;5;124;43m\"\u001b[39;49m\u001b[38;5;124;43mCheck the date and the list of the current directory\u001b[39;49m\u001b[38;5;124;43m\"\u001b[39;49m\u001b[43m)\u001b[49m\n",
      "File \u001b[0;32m/mnt/hdd0/alex/anaconda3/envs/terminal/lib/python3.12/site-packages/langchain/chains/base.py:506\u001b[0m, in \u001b[0;36mChain.run\u001b[0;34m(self, callbacks, tags, metadata, *args, **kwargs)\u001b[0m\n\u001b[1;32m    469\u001b[0m \u001b[38;5;250m\u001b[39m\u001b[38;5;124;03m\"\"\"Convenience method for executing chain.\u001b[39;00m\n\u001b[1;32m    470\u001b[0m \n\u001b[1;32m    471\u001b[0m \u001b[38;5;124;03mThe main difference between this method and `Chain.__call__` is that this\u001b[39;00m\n\u001b[0;32m   (...)\u001b[0m\n\u001b[1;32m    503\u001b[0m \u001b[38;5;124;03m        # -> \"The temperature in Boise is...\"\u001b[39;00m\n\u001b[1;32m    504\u001b[0m \u001b[38;5;124;03m\"\"\"\u001b[39;00m\n\u001b[1;32m    505\u001b[0m \u001b[38;5;66;03m# Run at start to make sure this is possible/defined\u001b[39;00m\n\u001b[0;32m--> 506\u001b[0m _output_key \u001b[38;5;241m=\u001b[39m \u001b[38;5;28;43mself\u001b[39;49m\u001b[38;5;241;43m.\u001b[39;49m\u001b[43m_run_output_key\u001b[49m\n\u001b[1;32m    508\u001b[0m \u001b[38;5;28;01mif\u001b[39;00m args \u001b[38;5;129;01mand\u001b[39;00m \u001b[38;5;129;01mnot\u001b[39;00m kwargs:\n\u001b[1;32m    509\u001b[0m     \u001b[38;5;28;01mif\u001b[39;00m \u001b[38;5;28mlen\u001b[39m(args) \u001b[38;5;241m!=\u001b[39m \u001b[38;5;241m1\u001b[39m:\n",
      "File \u001b[0;32m/mnt/hdd0/alex/anaconda3/envs/terminal/lib/python3.12/site-packages/langchain/chains/base.py:455\u001b[0m, in \u001b[0;36mChain._run_output_key\u001b[0;34m(self)\u001b[0m\n\u001b[1;32m    452\u001b[0m \u001b[38;5;129m@property\u001b[39m\n\u001b[1;32m    453\u001b[0m \u001b[38;5;28;01mdef\u001b[39;00m \u001b[38;5;21m_run_output_key\u001b[39m(\u001b[38;5;28mself\u001b[39m) \u001b[38;5;241m-\u001b[39m\u001b[38;5;241m>\u001b[39m \u001b[38;5;28mstr\u001b[39m:\n\u001b[1;32m    454\u001b[0m     \u001b[38;5;28;01mif\u001b[39;00m \u001b[38;5;28mlen\u001b[39m(\u001b[38;5;28mself\u001b[39m\u001b[38;5;241m.\u001b[39moutput_keys) \u001b[38;5;241m!=\u001b[39m \u001b[38;5;241m1\u001b[39m:\n\u001b[0;32m--> 455\u001b[0m         \u001b[38;5;28;01mraise\u001b[39;00m \u001b[38;5;167;01mValueError\u001b[39;00m(\n\u001b[1;32m    456\u001b[0m             \u001b[38;5;124mf\u001b[39m\u001b[38;5;124m\"\u001b[39m\u001b[38;5;124m`run` not supported when there is not exactly \u001b[39m\u001b[38;5;124m\"\u001b[39m\n\u001b[1;32m    457\u001b[0m             \u001b[38;5;124mf\u001b[39m\u001b[38;5;124m\"\u001b[39m\u001b[38;5;124mone output key. Got \u001b[39m\u001b[38;5;132;01m{\u001b[39;00m\u001b[38;5;28mself\u001b[39m\u001b[38;5;241m.\u001b[39moutput_keys\u001b[38;5;132;01m}\u001b[39;00m\u001b[38;5;124m.\u001b[39m\u001b[38;5;124m\"\u001b[39m\n\u001b[1;32m    458\u001b[0m         )\n\u001b[1;32m    459\u001b[0m     \u001b[38;5;28;01mreturn\u001b[39;00m \u001b[38;5;28mself\u001b[39m\u001b[38;5;241m.\u001b[39moutput_keys[\u001b[38;5;241m0\u001b[39m]\n",
      "\u001b[0;31mValueError\u001b[0m: `run` not supported when there is not exactly one output key. Got []."
     ]
    }
   ],
   "source": [
    "agent_executor.run(\"Check the date and the list of the current directory\")"
   ]
  },
  {
   "cell_type": "code",
   "execution_count": 50,
   "id": "2cc8d5d4-121b-4718-af13-8c8968cf56a8",
   "metadata": {},
   "outputs": [
    {
     "name": "stdout",
     "output_type": "stream",
     "text": [
      "\n",
      "\n",
      "\u001b[1m> Entering new AgentExecutor chain...\u001b[0m\n",
      "\u001b[32;1m\u001b[1;3mThought: I should use the terminal to run the 'date' and 'ls' commands\n",
      "Action: terminal\n",
      "Action Input: date\u001b[0m\n",
      "Observation: \u001b[36;1m\u001b[1;3mSat Jan  6 04:33:23 PM +04 2024\n",
      "\u001b[0m\n",
      "Thought:\u001b[32;1m\u001b[1;3m I should also check the current directory\n",
      "Action: terminal\n",
      "Action Input: ls\u001b[0m\n",
      "Observation: \u001b[36;1m\u001b[1;3mapp.py\n",
      "Dockerfile\n",
      "react.ipynb\n",
      "requirements.txt\n",
      "terminal_fake.ipynb\n",
      "terminal_native.ipynb\n",
      "tools.ipynb\n",
      "\u001b[0m\n",
      "Thought:\u001b[32;1m\u001b[1;3m I now know the final answer\n",
      "Final Answer: The date is Sat Jan  6 04:33:23 PM +04 2024 and the current directory contains the files app.py, Dockerfile, react.ipynb, requirements.txt, terminal_fake.ipynb, terminal_native.ipynb, and tools.ipynb.\u001b[0m\n",
      "\n",
      "\u001b[1m> Finished chain.\u001b[0m\n"
     ]
    },
    {
     "data": {
      "text/plain": [
       "'The date is Sat Jan  6 04:33:23 PM +04 2024 and the current directory contains the files app.py, Dockerfile, react.ipynb, requirements.txt, terminal_fake.ipynb, terminal_native.ipynb, and tools.ipynb.'"
      ]
     },
     "execution_count": 50,
     "metadata": {},
     "output_type": "execute_result"
    }
   ],
   "source": [
    "llm_chain = LLMChain(llm=OpenAI(temperature=0), prompt=prompt)\n",
    "\n",
    "\n",
    "tool_names = [tool.name for tool in tools]\n",
    "\n",
    "\n",
    "agent = ZeroShotAgent(llm_chain=llm_chain, allowed_tools=tool_names)\n",
    "\n",
    "\n",
    "agent_executor = AgentExecutor.from_agent_and_tools(\n",
    "    agent=agent, tools=tools, verbose=True\n",
    ")\n",
    "\n",
    "\n",
    "agent_executor.run(\"Check the date and the list of the current directory\")"
   ]
  },
  {
   "cell_type": "code",
   "execution_count": 51,
   "id": "29b1471a-0b6f-4675-9d74-fcd6b151126b",
   "metadata": {},
   "outputs": [
    {
     "name": "stdout",
     "output_type": "stream",
     "text": [
      "\n",
      "\n",
      "\u001b[1m> Entering new AgentExecutor chain...\u001b[0m\n",
      "\u001b[32;1m\u001b[1;3mThought: I should introduce myself and ask for the user's name.\n",
      "Action: terminal\n",
      "Action Input: whoami\u001b[0m\n",
      "Observation: \u001b[36;1m\u001b[1;3malex\n",
      "\u001b[0m\n",
      "Thought:\u001b[32;1m\u001b[1;3m I should greet the user and ask for their name.\n",
      "Action: terminal\n",
      "Action Input: echo \"Hello, what is your name?\"\u001b[0m\n",
      "Observation: \u001b[36;1m\u001b[1;3m/bin/sh: 1: Syntax error: Unterminated quoted string\n",
      "\u001b[0m\n",
      "Thought:\u001b[32;1m\u001b[1;3m I should use the read command to get the user's input.\n",
      "Action: terminal\n",
      "Action Input: read name\u001b[0m\n",
      "Observation: \u001b[36;1m\u001b[1;3m\u001b[0m\n",
      "Thought:\u001b[32;1m\u001b[1;3m I should greet the user by their name.\n",
      "Action: terminal\n",
      "Action Input: echo \"Hello $name, my name is Alex.\"\u001b[0m\n",
      "Observation: \u001b[36;1m\u001b[1;3m/bin/sh: 1: Syntax error: Unterminated quoted string\n",
      "\u001b[0m\n",
      "Thought:\u001b[32;1m\u001b[1;3m I should ask the user how I can assist them.\n",
      "Action: terminal\n",
      "Action Input: echo \"How can I assist you?\"\u001b[0m\n",
      "Observation: \u001b[36;1m\u001b[1;3m/bin/sh: 1: Syntax error: Unterminated quoted string\n",
      "\u001b[0m\n",
      "Thought:\u001b[32;1m\u001b[1;3m I should wait for the user's input.\n",
      "Action: terminal\n",
      "Action Input: read question\u001b[0m\n",
      "Observation: \u001b[36;1m\u001b[1;3m\u001b[0m\n",
      "Thought:\u001b[32;1m\u001b[1;3m I should provide an answer based on the user's input.\n",
      "Action: terminal\n",
      "Action Input: echo \"I'm sorry, I am just a simple AI and I am not able to assist with that question.\"\u001b[0m\n",
      "Observation: \u001b[36;1m\u001b[1;3m/bin/sh: 1: Syntax error: Unterminated quoted string\n",
      "\u001b[0m\n",
      "Thought:\u001b[32;1m\u001b[1;3m I now know the final answer.\n",
      "Final Answer: I'm sorry, I am just a simple AI and I am not able to assist with that question.\u001b[0m\n",
      "\n",
      "\u001b[1m> Finished chain.\u001b[0m\n"
     ]
    },
    {
     "data": {
      "text/plain": [
       "\"I'm sorry, I am just a simple AI and I am not able to assist with that question.\""
      ]
     },
     "execution_count": 51,
     "metadata": {},
     "output_type": "execute_result"
    }
   ],
   "source": [
    "agent_executor.run(\"My name is Bob. What is your name?\")"
   ]
  },
  {
   "cell_type": "code",
   "execution_count": 52,
   "id": "d0a0f2a5-c171-4dfb-a063-532cd3ce1a6c",
   "metadata": {},
   "outputs": [
    {
     "name": "stdout",
     "output_type": "stream",
     "text": [
      "\n",
      "\n",
      "\u001b[1m> Entering new AgentExecutor chain...\u001b[0m\n",
      "\u001b[32;1m\u001b[1;3mThought: I should check if I have access to the user's name\n",
      "Action: terminal\n",
      "Action Input: whoami\u001b[0m\n",
      "Observation: \u001b[36;1m\u001b[1;3malex\n",
      "\u001b[0m\n",
      "Thought:\u001b[32;1m\u001b[1;3m I can use the user's name to call them\n",
      "Action: terminal\n",
      "Action Input: echo \"Hello, alex!\"\u001b[0m\n",
      "Observation: \u001b[36;1m\u001b[1;3m/bin/sh: 1: Syntax error: Unterminated quoted string\n",
      "\u001b[0m\n",
      "Thought:\u001b[32;1m\u001b[1;3m I need to use double quotes to properly format the string\n",
      "Action: terminal\n",
      "Action Input: echo \"Hello, alex!\"\u001b[0m\n",
      "Observation: \u001b[36;1m\u001b[1;3m/bin/sh: 1: Syntax error: Unterminated quoted string\n",
      "\u001b[0m\n",
      "Thought:\u001b[32;1m\u001b[1;3m I should try using single quotes instead\n",
      "Action: terminal\n",
      "Action Input: echo 'Hello, alex!'\u001b[0m\n",
      "Observation: \u001b[36;1m\u001b[1;3mHello, alex!\n",
      "\u001b[0m\n",
      "Thought:\u001b[32;1m\u001b[1;3m I have successfully called the user by their name\n",
      "Final Answer: Hello, alex!\u001b[0m\n",
      "\n",
      "\u001b[1m> Finished chain.\u001b[0m\n"
     ]
    },
    {
     "data": {
      "text/plain": [
       "'Hello, alex!'"
      ]
     },
     "execution_count": 52,
     "metadata": {},
     "output_type": "execute_result"
    }
   ],
   "source": [
    "agent_executor.run(\"Do you remember my name? Call my name please\")"
   ]
  }
 ],
 "metadata": {
  "kernelspec": {
   "display_name": "Python 3 (ipykernel)",
   "language": "python",
   "name": "python3"
  },
  "language_info": {
   "codemirror_mode": {
    "name": "ipython",
    "version": 3
   },
   "file_extension": ".py",
   "mimetype": "text/x-python",
   "name": "python",
   "nbconvert_exporter": "python",
   "pygments_lexer": "ipython3",
   "version": "3.12.1"
  }
 },
 "nbformat": 4,
 "nbformat_minor": 5
}
