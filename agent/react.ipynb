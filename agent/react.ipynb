{
 "cells": [
  {
   "cell_type": "code",
   "execution_count": 1,
   "id": "75f49bea-ba01-4ad3-8f12-6141ae38ddd2",
   "metadata": {},
   "outputs": [],
   "source": [
    "# https://python.langchain.com/docs/modules/agents/agent_types/react"
   ]
  },
  {
   "cell_type": "code",
   "execution_count": 3,
   "id": "6fce2c0e-8102-48e9-9dd1-076a4c2ea8da",
   "metadata": {},
   "outputs": [],
   "source": [
    "from langchain import hub\n",
    "from langchain.agents import AgentExecutor, create_react_agent\n",
    "from langchain_community.llms import OpenAI\n",
    "from langchain_community.tools.tavily_search import TavilySearchResults"
   ]
  },
  {
   "cell_type": "code",
   "execution_count": 7,
   "id": "636b4c3a-9cf7-4523-969d-65147dbdf17b",
   "metadata": {},
   "outputs": [],
   "source": [
    "import os\n",
    "os.environ['TAVILY_API_KEY'] = '...'\n",
    "os.environ['OPENAI_API_KEY'] = '...'"
   ]
  },
  {
   "cell_type": "code",
   "execution_count": 8,
   "id": "e9f7acf3-ea79-4901-b7fb-14c110047066",
   "metadata": {},
   "outputs": [],
   "source": [
    "tools = [TavilySearchResults(max_results=1)]"
   ]
  },
  {
   "cell_type": "code",
   "execution_count": 10,
   "id": "1bd5fb0c-6a21-4da6-b8ac-0028fa126878",
   "metadata": {},
   "outputs": [
    {
     "name": "stdout",
     "output_type": "stream",
     "text": [
      "Collecting langchainhub\n",
      "  Downloading langchainhub-0.1.14-py3-none-any.whl.metadata (478 bytes)\n",
      "Requirement already satisfied: requests<3,>=2 in /mnt/hdd0/alex/anaconda3/envs/terminal/lib/python3.12/site-packages (from langchainhub) (2.31.0)\n",
      "Requirement already satisfied: types-requests<3.0.0.0,>=2.31.0.2 in /mnt/hdd0/alex/anaconda3/envs/terminal/lib/python3.12/site-packages (from langchainhub) (2.31.0.20231231)\n",
      "Requirement already satisfied: charset-normalizer<4,>=2 in /mnt/hdd0/alex/anaconda3/envs/terminal/lib/python3.12/site-packages (from requests<3,>=2->langchainhub) (3.3.2)\n",
      "Requirement already satisfied: idna<4,>=2.5 in /mnt/hdd0/alex/anaconda3/envs/terminal/lib/python3.12/site-packages (from requests<3,>=2->langchainhub) (3.6)\n",
      "Requirement already satisfied: urllib3<3,>=1.21.1 in /mnt/hdd0/alex/anaconda3/envs/terminal/lib/python3.12/site-packages (from requests<3,>=2->langchainhub) (2.1.0)\n",
      "Requirement already satisfied: certifi>=2017.4.17 in /mnt/hdd0/alex/anaconda3/envs/terminal/lib/python3.12/site-packages (from requests<3,>=2->langchainhub) (2023.11.17)\n",
      "Downloading langchainhub-0.1.14-py3-none-any.whl (3.4 kB)\n",
      "Installing collected packages: langchainhub\n",
      "Successfully installed langchainhub-0.1.14\n"
     ]
    }
   ],
   "source": [
    "!pip install langchainhub"
   ]
  },
  {
   "cell_type": "code",
   "execution_count": 11,
   "id": "9ec9fae7-d5ac-49cb-8943-0e549e249fd8",
   "metadata": {},
   "outputs": [],
   "source": [
    "# Get the prompt to use - you can modify this!\n",
    "prompt = hub.pull(\"hwchase17/react\")"
   ]
  },
  {
   "cell_type": "code",
   "execution_count": 12,
   "id": "6f27fdc4-8b68-4966-a9f3-eba0da6eeb18",
   "metadata": {},
   "outputs": [],
   "source": [
    "# Choose the LLM to use\n",
    "llm = OpenAI()\n",
    "\n",
    "# Construct the ReAct agent\n",
    "agent = create_react_agent(llm, tools, prompt)"
   ]
  },
  {
   "cell_type": "code",
   "execution_count": 13,
   "id": "117a49ed-3bef-4c03-8242-4a7392bc4f7a",
   "metadata": {},
   "outputs": [],
   "source": [
    "# Create an agent executor by passing in the agent and tools\n",
    "agent_executor = AgentExecutor(agent=agent, tools=tools, verbose=True)"
   ]
  },
  {
   "cell_type": "code",
   "execution_count": 14,
   "id": "e3bbb1f7-97cb-4a52-9185-e597273e2499",
   "metadata": {},
   "outputs": [
    {
     "name": "stdout",
     "output_type": "stream",
     "text": [
      "\n",
      "\n",
      "\u001b[1m> Entering new AgentExecutor chain...\u001b[0m\n",
      "\u001b[32;1m\u001b[1;3m I should start by searching for information on LangChain.\n",
      "Action: tavily_search_results_json\n",
      "Action Input: \"LangChain\"\u001b[0m\u001b[36;1m\u001b[1;3m[{'url': 'https://blog.stackademic.com/langchain-in-chains-1-a-closer-look-a6bbaa246ccb', 'content': 'Langchain  LangChain is an open-source framework designed to simplify the creation of applications using large language models  Langchain provides various components that make it easier to integrate and manage models in different application  LangChain is a framework for developing applications powered by language models. It enables applications that:1 day ago -- This is the first part of a series about LangChain. I will introduce its core concepts. In each subsequent post, we will expand our understanding of the framework. LangChain is an open-source framework designed to simplify the creation of applications using large language models (LLMs).'}]\u001b[0m\u001b[32;1m\u001b[1;3mI should read through the search results to learn more about LangChain.\n",
      "Action: tavily_search_results_json\n",
      "Action Input: \"LangChain\"\u001b[0m\u001b[36;1m\u001b[1;3m[{'url': 'https://medium.com/@okanyenigun/langchain-in-chains-1-a-closer-look-a6bbaa246ccb', 'content': 'Langchain  LangChain is an open-source framework designed to simplify the creation of applications using large language models  Langchain provides various components that make it easier to integrate and manage models in different application  LangChain is a framework for developing applications powered by language models. It enables applications that:This is the first part of a series about LangChain. I will introduce its core concepts. In each subsequent post, we will expand our understanding of the framework. LangChain is an open-source…'}]\u001b[0m\u001b[32;1m\u001b[1;3mI should compare and contrast the information from both articles to get a better understanding of LangChain.\n",
      "Action: tavily_search_results_json\n",
      "Action Input: \"LangChain\"\u001b[0m\u001b[36;1m\u001b[1;3m[{'url': 'https://blog.stackademic.com/langchain-in-chains-1-a-closer-look-a6bbaa246ccb', 'content': 'Langchain  LangChain is an open-source framework designed to simplify the creation of applications using large language models  Langchain provides various components that make it easier to integrate and manage models in different application  LangChain is a framework for developing applications powered by language models. It enables applications that:1 day ago -- This is the first part of a series about LangChain. I will introduce its core concepts. In each subsequent post, we will expand our understanding of the framework. LangChain is an open-source framework designed to simplify the creation of applications using large language models (LLMs).'}]\u001b[0m\u001b[32;1m\u001b[1;3mNow I have a good understanding of LangChain.\n",
      "Final Answer: LangChain is an open-source framework designed to simplify the creation of applications using large language models. It provides various components to make integration and management of models easier in different applications. It is a framework for developing applications powered by language models and enables a wide range of applications. \u001b[0m\n",
      "\n",
      "\u001b[1m> Finished chain.\u001b[0m\n"
     ]
    },
    {
     "data": {
      "text/plain": [
       "{'input': 'what is LangChain?',\n",
       " 'output': 'LangChain is an open-source framework designed to simplify the creation of applications using large language models. It provides various components to make integration and management of models easier in different applications. It is a framework for developing applications powered by language models and enables a wide range of applications.'}"
      ]
     },
     "execution_count": 14,
     "metadata": {},
     "output_type": "execute_result"
    }
   ],
   "source": [
    "agent_executor.invoke({\"input\": \"what is LangChain?\"})"
   ]
  }
 ],
 "metadata": {
  "kernelspec": {
   "display_name": "Python 3 (ipykernel)",
   "language": "python",
   "name": "python3"
  },
  "language_info": {
   "codemirror_mode": {
    "name": "ipython",
    "version": 3
   },
   "file_extension": ".py",
   "mimetype": "text/x-python",
   "name": "python",
   "nbconvert_exporter": "python",
   "pygments_lexer": "ipython3",
   "version": "3.12.1"
  }
 },
 "nbformat": 4,
 "nbformat_minor": 5
}
