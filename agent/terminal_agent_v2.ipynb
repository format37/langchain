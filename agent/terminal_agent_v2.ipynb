{
 "cells": [
  {
   "cell_type": "code",
   "execution_count": 15,
   "id": "f2e47e6a-9119-4a69-a1fd-0441fac90d12",
   "metadata": {},
   "outputs": [],
   "source": [
    "from langchain.agents import load_tools\n",
    "from langchain.agents import initialize_agent\n",
    "from langchain.chat_models import ChatOpenAI\n",
    "from langchain.tools import ShellTool\n",
    "import warnings"
   ]
  },
  {
   "cell_type": "code",
   "execution_count": 11,
   "id": "29398a81-b3b7-4b62-ac2d-7a52d2f3e561",
   "metadata": {},
   "outputs": [],
   "source": [
    "# Suppress UserWarnings\n",
    "warnings.filterwarnings('ignore', category=UserWarning)"
   ]
  },
  {
   "cell_type": "code",
   "execution_count": 2,
   "id": "dd949ca3-a486-4733-830d-bd26a6f8ffb9",
   "metadata": {},
   "outputs": [],
   "source": [
    "import os\n",
    "os.environ[\"OPENAI_API_KEY\"] = \"...\" # https://platform.openai.com/"
   ]
  },
  {
   "cell_type": "code",
   "execution_count": 41,
   "id": "6c9fac18-c48b-4a74-a0d1-2e7f5f90f2f3",
   "metadata": {},
   "outputs": [
    {
     "name": "stdout",
     "output_type": "stream",
     "text": [
      "Collecting duckduckgo-search\n",
      "  Downloading duckduckgo_search-4.1.1-py3-none-any.whl.metadata (19 kB)\n",
      "Requirement already satisfied: click>=8.1.7 in /mnt/hdd0/alex/anaconda3/envs/terminal/lib/python3.12/site-packages (from duckduckgo-search) (8.1.7)\n",
      "Collecting lxml>=4.9.3 (from duckduckgo-search)\n",
      "  Downloading lxml-5.0.1-cp312-cp312-manylinux_2_28_x86_64.whl.metadata (3.6 kB)\n",
      "Collecting curl-cffi>=0.5.10 (from duckduckgo-search)\n",
      "  Downloading curl_cffi-0.5.10-cp37-abi3-manylinux_2_17_x86_64.manylinux2014_x86_64.whl.metadata (7.9 kB)\n",
      "Requirement already satisfied: cffi>=1.12.0 in /mnt/hdd0/alex/anaconda3/envs/terminal/lib/python3.12/site-packages (from curl-cffi>=0.5.10->duckduckgo-search) (1.16.0)\n",
      "Requirement already satisfied: pycparser in /mnt/hdd0/alex/anaconda3/envs/terminal/lib/python3.12/site-packages (from cffi>=1.12.0->curl-cffi>=0.5.10->duckduckgo-search) (2.21)\n",
      "Downloading duckduckgo_search-4.1.1-py3-none-any.whl (26 kB)\n",
      "Downloading curl_cffi-0.5.10-cp37-abi3-manylinux_2_17_x86_64.manylinux2014_x86_64.whl (7.2 MB)\n",
      "\u001b[2K   \u001b[38;2;114;156;31m━━━━━━━━━━━━━━━━━━━━━━━━━━━━━━━━━━━━━━━━\u001b[0m \u001b[32m7.2/7.2 MB\u001b[0m \u001b[31m6.8 MB/s\u001b[0m eta \u001b[36m0:00:00\u001b[0m[36m0:00:01\u001b[0mm eta \u001b[36m0:00:01\u001b[0m\n",
      "\u001b[?25hDownloading lxml-5.0.1-cp312-cp312-manylinux_2_28_x86_64.whl (8.1 MB)\n",
      "\u001b[2K   \u001b[38;2;114;156;31m━━━━━━━━━━━━━━━━━━━━━━━━━━━━━━━━━━━━━━━━\u001b[0m \u001b[32m8.1/8.1 MB\u001b[0m \u001b[31m8.0 MB/s\u001b[0m eta \u001b[36m0:00:00\u001b[0mm eta \u001b[36m0:00:01\u001b[0m[36m0:00:01\u001b[0m\n",
      "\u001b[?25hInstalling collected packages: lxml, curl-cffi, duckduckgo-search\n",
      "Successfully installed curl-cffi-0.5.10 duckduckgo-search-4.1.1 lxml-5.0.1\n"
     ]
    }
   ],
   "source": [
    "# !pip install -U duckduckgo-search"
   ]
  },
  {
   "cell_type": "code",
   "execution_count": 17,
   "id": "0de49e50-c779-4a10-bb0c-6c533e332581",
   "metadata": {},
   "outputs": [],
   "source": [
    "llm = ChatOpenAI(model='gpt-3.5-turbo', temperature=0)\n",
    "tools = load_tools(['terminal'], llm=llm)"
   ]
  },
  {
   "cell_type": "code",
   "execution_count": 42,
   "id": "5eb566cd-b203-4fa9-a550-631e0ffde90b",
   "metadata": {},
   "outputs": [],
   "source": [
    "from langchain.tools import DuckDuckGoSearchRun\n",
    "tools.append(ShellTool())"
   ]
  },
  {
   "cell_type": "code",
   "execution_count": 47,
   "id": "c5e83e64-b52b-4047-adda-0581890c93ed",
   "metadata": {},
   "outputs": [],
   "source": [
    "# https://api.python.langchain.com/en/latest/agents/langchain.agents.agent_types.AgentType.html\n",
    "agent_type = 'chat-zero-shot-react-description'\n",
    "# agent_type = 'chat-conversational-react-description'\n",
    "agent = initialize_agent(tools, llm, agent=agent_type, verbose=True, handle_parsing_errors=True)"
   ]
  },
  {
   "cell_type": "code",
   "execution_count": 40,
   "id": "c445702e-867e-42fb-9aa3-eb0ca456abc1",
   "metadata": {},
   "outputs": [],
   "source": [
    "# agent.agent.llm_chain.prompt.messages[0].prompt.template"
   ]
  },
  {
   "cell_type": "code",
   "execution_count": 49,
   "id": "0da42eaa-4427-4639-a5e4-5c91a5cf4cd5",
   "metadata": {},
   "outputs": [],
   "source": [
    "# agent.run(\"Do you know the capital of Britain?\")"
   ]
  },
  {
   "cell_type": "code",
   "execution_count": 44,
   "id": "428d91c3-c71a-4cd1-8e7b-790d3ad65904",
   "metadata": {},
   "outputs": [
    {
     "name": "stdout",
     "output_type": "stream",
     "text": [
      "\n",
      "\n",
      "\u001b[1m> Entering new AgentExecutor chain...\u001b[0m\n",
      "\u001b[32;1m\u001b[1;3mQuestion: What is the current date and time?\n",
      "Thought: I can use the `date` command to get the current date and time.\n",
      "Action:\n",
      "```\n",
      "{\n",
      "  \"action\": \"terminal\",\n",
      "  \"action_input\": \"date\"\n",
      "}\n",
      "```\n",
      "\u001b[0m\n",
      "Observation: \u001b[33;1m\u001b[1;3mSat Jan  6 05:58:09 PM +04 2024\n",
      "\u001b[0m\n",
      "Thought:\u001b[32;1m\u001b[1;3mI can use the `ls` command to list the files and directories in the current directory.\n",
      "Action:\n",
      "```\n",
      "{\n",
      "  \"action\": \"terminal\",\n",
      "  \"action_input\": \"ls\"\n",
      "}\n",
      "```\u001b[0m\n",
      "Observation: \u001b[33;1m\u001b[1;3mapp.py\n",
      "Dockerfile\n",
      "react.ipynb\n",
      "requirements.txt\n",
      "terminal_agent_v2.ipynb\n",
      "terminal_chat.ipynb\n",
      "terminal_fake.ipynb\n",
      "terminal_native.ipynb\n",
      "tools.ipynb\n",
      "\u001b[0m\n",
      "Thought:\u001b[32;1m\u001b[1;3mCould not parse LLM output: I now know the final answer.\u001b[0m\n",
      "Observation: Invalid or incomplete response\n",
      "Thought:\u001b[32;1m\u001b[1;3mI apologize for the incomplete response. Let me provide you with the final answer.\n",
      "\n",
      "Final Answer: The current date and time is Sat Jan 6 05:58:09 PM +04 2024. The files and directories in the current directory are app.py, Dockerfile, react.ipynb, requirements.txt, terminal_agent_v2.ipynb, terminal_chat.ipynb, terminal_fake.ipynb, terminal_native.ipynb, and tools.ipynb.\u001b[0m\n",
      "\n",
      "\u001b[1m> Finished chain.\u001b[0m\n"
     ]
    },
    {
     "data": {
      "text/plain": [
       "'The current date and time is Sat Jan 6 05:58:09 PM +04 2024. The files and directories in the current directory are app.py, Dockerfile, react.ipynb, requirements.txt, terminal_agent_v2.ipynb, terminal_chat.ipynb, terminal_fake.ipynb, terminal_native.ipynb, and tools.ipynb.'"
      ]
     },
     "execution_count": 44,
     "metadata": {},
     "output_type": "execute_result"
    }
   ],
   "source": [
    "agent.run(\"Check the date and the list of the current directory\")"
   ]
  },
  {
   "cell_type": "code",
   "execution_count": 45,
   "id": "98584e64-4578-49da-bdc2-7848a8016743",
   "metadata": {},
   "outputs": [],
   "source": [
    "# agent.run(\"Password: '3212321'. Please, update the system\")"
   ]
  },
  {
   "cell_type": "code",
   "execution_count": null,
   "id": "286db793-440f-40e2-be66-c02f92fb19f4",
   "metadata": {},
   "outputs": [],
   "source": []
  }
 ],
 "metadata": {
  "kernelspec": {
   "display_name": "Python 3 (ipykernel)",
   "language": "python",
   "name": "python3"
  },
  "language_info": {
   "codemirror_mode": {
    "name": "ipython",
    "version": 3
   },
   "file_extension": ".py",
   "mimetype": "text/x-python",
   "name": "python",
   "nbconvert_exporter": "python",
   "pygments_lexer": "ipython3",
   "version": "3.12.1"
  }
 },
 "nbformat": 4,
 "nbformat_minor": 5
}
