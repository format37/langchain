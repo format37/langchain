{
 "cells": [
  {
   "cell_type": "code",
   "execution_count": 9,
   "id": "580c84c2-883a-42b9-971a-8a5fe485881c",
   "metadata": {},
   "outputs": [],
   "source": [
    "# https://arize.com/blog-course/react-agent-llm/"
   ]
  },
  {
   "cell_type": "code",
   "execution_count": 3,
   "id": "c087d903-7e8f-40f6-8a8d-a5881291e441",
   "metadata": {},
   "outputs": [],
   "source": [
    "from langchain.agents import load_tools\n",
    "from langchain.agents import initialize_agent\n",
    "from langchain.llms import OpenAI"
   ]
  },
  {
   "cell_type": "code",
   "execution_count": 1,
   "id": "5be8fed5-f3dc-422f-8a1c-d8a5940d168b",
   "metadata": {},
   "outputs": [],
   "source": [
    "import os\n",
    "os.environ[\"OPENAI_API_KEY\"] = \"...\" # https://platform.openai.com/"
   ]
  },
  {
   "cell_type": "code",
   "execution_count": 10,
   "id": "903fc9d7-c8bf-4d45-93e1-bfa22b3bd2d6",
   "metadata": {},
   "outputs": [],
   "source": [
    "# !pip install langchain-experimental"
   ]
  },
  {
   "cell_type": "code",
   "execution_count": 26,
   "id": "4d623f6a-5b25-4ce0-89d3-031851c66012",
   "metadata": {},
   "outputs": [],
   "source": [
    "# llm = OpenAI(temperature=0) #Temp = 0 generally means less hallucinations and a more deterministic model\n",
    "# https://platform.openai.com/docs/models/model-endpoint-compatibility\n",
    "# llm = OpenAI(model=\"gpt-3.5-turbo-instruct\") # /v1/completions (Legacy)\n",
    "# llm = OpenAI(model=\"gpt-4-1106-preview\", temperature=0)\n",
    "llm = OpenAI(model=\"gpt-3.5-turbo-0301\", temperature=0)\n",
    "\n",
    "#Tools are functions that agents can use to interact with the world. These tools can be generic utilities (e.g. search), other chains, or even other agents.\n",
    "tools = load_tools([\"terminal\"], llm=llm) #The tools the agent will have access to are: [Google search, math, wikipedia, terminal]"
   ]
  },
  {
   "cell_type": "code",
   "execution_count": 27,
   "id": "43903512-43cd-461c-a16b-71a1ef8a4deb",
   "metadata": {},
   "outputs": [
    {
     "data": {
      "text/plain": [
       "'gpt-3.5-turbo-0301'"
      ]
     },
     "execution_count": 27,
     "metadata": {},
     "output_type": "execute_result"
    }
   ],
   "source": [
    "llm.model_name"
   ]
  },
  {
   "cell_type": "code",
   "execution_count": 46,
   "id": "e97a0b8a-4fb8-4bef-ac01-9f0dfe0df5a6",
   "metadata": {},
   "outputs": [],
   "source": [
    "\"\"\"agent = initialize_agent(tools,\n",
    "                         llm,\n",
    "                         agent=\"zero-shot-react-description\",\n",
    "                         verbose=True)\"\"\"\n",
    "agent = initialize_agent(tools,\n",
    "                         llm,\n",
    "                         agent=\"conversational-react-description\",\n",
    "                         verbose=True)"
   ]
  },
  {
   "cell_type": "code",
   "execution_count": 47,
   "id": "e7f39590-5a00-434e-af68-57668384c32a",
   "metadata": {},
   "outputs": [
    {
     "data": {
      "text/plain": [
       "('terminal', 'Run shell commands on this Linux machine.')"
      ]
     },
     "execution_count": 47,
     "metadata": {},
     "output_type": "execute_result"
    }
   ],
   "source": [
    "tools[0].name, tools[0].description"
   ]
  },
  {
   "cell_type": "code",
   "execution_count": 48,
   "id": "4236f5ce-c50f-4a16-8f7f-b946a4056c7b",
   "metadata": {},
   "outputs": [
    {
     "name": "stdout",
     "output_type": "stream",
     "text": [
      "Assist user the best you can. You have access to the following optional tools:\n",
      "\n",
      "terminal: Run shell commands on this Linux machine.\n",
      "\n",
      "Use the following format:\n",
      "\n",
      "Question: the input question you must answer\n",
      "Thought: you should always think about what to do\n",
      "Action: the action to take, should be one of [terminal]\n",
      "Action Input: the input to the action\n",
      "Observation: the result of the action\n",
      "... (this Thought/Action/Action Input/Observation can repeat N times)\n",
      "Thought: I now know the final answer\n",
      "Final Answer: the final answer to the original input question\n",
      "\n",
      "Begin! \n",
      "\n",
      "Question: {input}\n",
      "{agent_scratchpad}\n"
     ]
    }
   ],
   "source": [
    "from langchain.agents import ZeroShotAgent, Tool, AgentExecutor\n",
    "from langchain import OpenAI, SerpAPIWrapper, LLMChain\n",
    "\n",
    "prefix = \"\"\"Assist user the best you can. You have access to the following optional tools:\"\"\"\n",
    "suffix = \"\"\"Begin! \n",
    "\n",
    "Question: {input}\n",
    "{agent_scratchpad}\"\"\"\n",
    "\n",
    "prompt = ZeroShotAgent.create_prompt(\n",
    "   tools, prefix=prefix, suffix=suffix, input_variables=[\"input\", \"agent_scratchpad\"]\n",
    ")\n",
    "print(prompt.template)"
   ]
  },
  {
   "cell_type": "code",
   "execution_count": 49,
   "id": "a0ae9795-17bb-4157-82c3-e97fb0ed3391",
   "metadata": {},
   "outputs": [],
   "source": [
    "import warnings\n",
    "\n",
    "# Suppress UserWarnings\n",
    "warnings.filterwarnings('ignore', category=UserWarning)"
   ]
  },
  {
   "cell_type": "code",
   "execution_count": 50,
   "id": "2cc8d5d4-121b-4718-af13-8c8968cf56a8",
   "metadata": {},
   "outputs": [
    {
     "name": "stdout",
     "output_type": "stream",
     "text": [
      "\n",
      "\n",
      "\u001b[1m> Entering new AgentExecutor chain...\u001b[0m\n",
      "\u001b[32;1m\u001b[1;3mThought: I should use the terminal to run the 'date' and 'ls' commands\n",
      "Action: terminal\n",
      "Action Input: date\u001b[0m\n",
      "Observation: \u001b[36;1m\u001b[1;3mSat Jan  6 04:33:23 PM +04 2024\n",
      "\u001b[0m\n",
      "Thought:\u001b[32;1m\u001b[1;3m I should also check the current directory\n",
      "Action: terminal\n",
      "Action Input: ls\u001b[0m\n",
      "Observation: \u001b[36;1m\u001b[1;3mapp.py\n",
      "Dockerfile\n",
      "react.ipynb\n",
      "requirements.txt\n",
      "terminal_fake.ipynb\n",
      "terminal_native.ipynb\n",
      "tools.ipynb\n",
      "\u001b[0m\n",
      "Thought:\u001b[32;1m\u001b[1;3m I now know the final answer\n",
      "Final Answer: The date is Sat Jan  6 04:33:23 PM +04 2024 and the current directory contains the files app.py, Dockerfile, react.ipynb, requirements.txt, terminal_fake.ipynb, terminal_native.ipynb, and tools.ipynb.\u001b[0m\n",
      "\n",
      "\u001b[1m> Finished chain.\u001b[0m\n"
     ]
    },
    {
     "data": {
      "text/plain": [
       "'The date is Sat Jan  6 04:33:23 PM +04 2024 and the current directory contains the files app.py, Dockerfile, react.ipynb, requirements.txt, terminal_fake.ipynb, terminal_native.ipynb, and tools.ipynb.'"
      ]
     },
     "execution_count": 50,
     "metadata": {},
     "output_type": "execute_result"
    }
   ],
   "source": [
    "llm_chain = LLMChain(llm=OpenAI(temperature=0), prompt=prompt)\n",
    "\n",
    "\n",
    "tool_names = [tool.name for tool in tools]\n",
    "\n",
    "\n",
    "agent = ZeroShotAgent(llm_chain=llm_chain, allowed_tools=tool_names)\n",
    "\n",
    "\n",
    "agent_executor = AgentExecutor.from_agent_and_tools(\n",
    "    agent=agent, tools=tools, verbose=True\n",
    ")\n",
    "\n",
    "\n",
    "agent_executor.run(\"Check the date and the list of the current directory\")"
   ]
  },
  {
   "cell_type": "code",
   "execution_count": 51,
   "id": "29b1471a-0b6f-4675-9d74-fcd6b151126b",
   "metadata": {},
   "outputs": [
    {
     "name": "stdout",
     "output_type": "stream",
     "text": [
      "\n",
      "\n",
      "\u001b[1m> Entering new AgentExecutor chain...\u001b[0m\n",
      "\u001b[32;1m\u001b[1;3mThought: I should introduce myself and ask for the user's name.\n",
      "Action: terminal\n",
      "Action Input: whoami\u001b[0m\n",
      "Observation: \u001b[36;1m\u001b[1;3malex\n",
      "\u001b[0m\n",
      "Thought:\u001b[32;1m\u001b[1;3m I should greet the user and ask for their name.\n",
      "Action: terminal\n",
      "Action Input: echo \"Hello, what is your name?\"\u001b[0m\n",
      "Observation: \u001b[36;1m\u001b[1;3m/bin/sh: 1: Syntax error: Unterminated quoted string\n",
      "\u001b[0m\n",
      "Thought:\u001b[32;1m\u001b[1;3m I should use the read command to get the user's input.\n",
      "Action: terminal\n",
      "Action Input: read name\u001b[0m\n",
      "Observation: \u001b[36;1m\u001b[1;3m\u001b[0m\n",
      "Thought:\u001b[32;1m\u001b[1;3m I should greet the user by their name.\n",
      "Action: terminal\n",
      "Action Input: echo \"Hello $name, my name is Alex.\"\u001b[0m\n",
      "Observation: \u001b[36;1m\u001b[1;3m/bin/sh: 1: Syntax error: Unterminated quoted string\n",
      "\u001b[0m\n",
      "Thought:\u001b[32;1m\u001b[1;3m I should ask the user how I can assist them.\n",
      "Action: terminal\n",
      "Action Input: echo \"How can I assist you?\"\u001b[0m\n",
      "Observation: \u001b[36;1m\u001b[1;3m/bin/sh: 1: Syntax error: Unterminated quoted string\n",
      "\u001b[0m\n",
      "Thought:\u001b[32;1m\u001b[1;3m I should wait for the user's input.\n",
      "Action: terminal\n",
      "Action Input: read question\u001b[0m\n",
      "Observation: \u001b[36;1m\u001b[1;3m\u001b[0m\n",
      "Thought:\u001b[32;1m\u001b[1;3m I should provide an answer based on the user's input.\n",
      "Action: terminal\n",
      "Action Input: echo \"I'm sorry, I am just a simple AI and I am not able to assist with that question.\"\u001b[0m\n",
      "Observation: \u001b[36;1m\u001b[1;3m/bin/sh: 1: Syntax error: Unterminated quoted string\n",
      "\u001b[0m\n",
      "Thought:\u001b[32;1m\u001b[1;3m I now know the final answer.\n",
      "Final Answer: I'm sorry, I am just a simple AI and I am not able to assist with that question.\u001b[0m\n",
      "\n",
      "\u001b[1m> Finished chain.\u001b[0m\n"
     ]
    },
    {
     "data": {
      "text/plain": [
       "\"I'm sorry, I am just a simple AI and I am not able to assist with that question.\""
      ]
     },
     "execution_count": 51,
     "metadata": {},
     "output_type": "execute_result"
    }
   ],
   "source": [
    "agent_executor.run(\"My name is Bob. What is your name?\")"
   ]
  },
  {
   "cell_type": "code",
   "execution_count": 52,
   "id": "d0a0f2a5-c171-4dfb-a063-532cd3ce1a6c",
   "metadata": {},
   "outputs": [
    {
     "name": "stdout",
     "output_type": "stream",
     "text": [
      "\n",
      "\n",
      "\u001b[1m> Entering new AgentExecutor chain...\u001b[0m\n",
      "\u001b[32;1m\u001b[1;3mThought: I should check if I have access to the user's name\n",
      "Action: terminal\n",
      "Action Input: whoami\u001b[0m\n",
      "Observation: \u001b[36;1m\u001b[1;3malex\n",
      "\u001b[0m\n",
      "Thought:\u001b[32;1m\u001b[1;3m I can use the user's name to call them\n",
      "Action: terminal\n",
      "Action Input: echo \"Hello, alex!\"\u001b[0m\n",
      "Observation: \u001b[36;1m\u001b[1;3m/bin/sh: 1: Syntax error: Unterminated quoted string\n",
      "\u001b[0m\n",
      "Thought:\u001b[32;1m\u001b[1;3m I need to use double quotes to properly format the string\n",
      "Action: terminal\n",
      "Action Input: echo \"Hello, alex!\"\u001b[0m\n",
      "Observation: \u001b[36;1m\u001b[1;3m/bin/sh: 1: Syntax error: Unterminated quoted string\n",
      "\u001b[0m\n",
      "Thought:\u001b[32;1m\u001b[1;3m I should try using single quotes instead\n",
      "Action: terminal\n",
      "Action Input: echo 'Hello, alex!'\u001b[0m\n",
      "Observation: \u001b[36;1m\u001b[1;3mHello, alex!\n",
      "\u001b[0m\n",
      "Thought:\u001b[32;1m\u001b[1;3m I have successfully called the user by their name\n",
      "Final Answer: Hello, alex!\u001b[0m\n",
      "\n",
      "\u001b[1m> Finished chain.\u001b[0m\n"
     ]
    },
    {
     "data": {
      "text/plain": [
       "'Hello, alex!'"
      ]
     },
     "execution_count": 52,
     "metadata": {},
     "output_type": "execute_result"
    }
   ],
   "source": [
    "agent_executor.run(\"Do you remember my name? Call my name please\")"
   ]
  }
 ],
 "metadata": {
  "kernelspec": {
   "display_name": "Python 3 (ipykernel)",
   "language": "python",
   "name": "python3"
  },
  "language_info": {
   "codemirror_mode": {
    "name": "ipython",
    "version": 3
   },
   "file_extension": ".py",
   "mimetype": "text/x-python",
   "name": "python",
   "nbconvert_exporter": "python",
   "pygments_lexer": "ipython3",
   "version": "3.12.1"
  }
 },
 "nbformat": 4,
 "nbformat_minor": 5
}
