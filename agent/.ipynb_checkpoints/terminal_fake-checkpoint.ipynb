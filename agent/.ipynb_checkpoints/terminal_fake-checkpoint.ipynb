{
 "cells": [
  {
   "cell_type": "code",
   "execution_count": 10,
   "id": "becca947-08d4-445c-8333-1935c31daada",
   "metadata": {},
   "outputs": [],
   "source": [
    "from langchain import hub\n",
    "from langchain.agents import AgentExecutor, create_react_agent\n",
    "# from langchain_community.llms import OpenAI\n",
    "# from langchain_community.tools.tavily_search import TavilySearchResults\n",
    "from langchain.pydantic_v1 import BaseModel, Field\n",
    "from langchain.tools import BaseTool, StructuredTool, tool"
   ]
  },
  {
   "cell_type": "code",
   "execution_count": 42,
   "id": "a897d5b1-1eb9-4e94-98cb-24b347b0ba40",
   "metadata": {},
   "outputs": [
    {
     "name": "stdout",
     "output_type": "stream",
     "text": [
      "Requirement already satisfied: openai in /mnt/hdd0/alex/anaconda3/envs/terminal/lib/python3.12/site-packages (1.6.1)\n",
      "Requirement already satisfied: anyio<5,>=3.5.0 in /mnt/hdd0/alex/anaconda3/envs/terminal/lib/python3.12/site-packages (from openai) (4.2.0)\n",
      "Requirement already satisfied: distro<2,>=1.7.0 in /mnt/hdd0/alex/anaconda3/envs/terminal/lib/python3.12/site-packages (from openai) (1.9.0)\n",
      "Requirement already satisfied: httpx<1,>=0.23.0 in /mnt/hdd0/alex/anaconda3/envs/terminal/lib/python3.12/site-packages (from openai) (0.26.0)\n",
      "Requirement already satisfied: pydantic<3,>=1.9.0 in /mnt/hdd0/alex/anaconda3/envs/terminal/lib/python3.12/site-packages (from openai) (1.10.9)\n",
      "Requirement already satisfied: sniffio in /mnt/hdd0/alex/anaconda3/envs/terminal/lib/python3.12/site-packages (from openai) (1.3.0)\n",
      "Requirement already satisfied: tqdm>4 in /mnt/hdd0/alex/anaconda3/envs/terminal/lib/python3.12/site-packages (from openai) (4.66.1)\n",
      "Requirement already satisfied: typing-extensions<5,>=4.7 in /mnt/hdd0/alex/anaconda3/envs/terminal/lib/python3.12/site-packages (from openai) (4.9.0)\n",
      "Requirement already satisfied: idna>=2.8 in /mnt/hdd0/alex/anaconda3/envs/terminal/lib/python3.12/site-packages (from anyio<5,>=3.5.0->openai) (3.6)\n",
      "Requirement already satisfied: certifi in /mnt/hdd0/alex/anaconda3/envs/terminal/lib/python3.12/site-packages (from httpx<1,>=0.23.0->openai) (2023.11.17)\n",
      "Requirement already satisfied: httpcore==1.* in /mnt/hdd0/alex/anaconda3/envs/terminal/lib/python3.12/site-packages (from httpx<1,>=0.23.0->openai) (1.0.2)\n",
      "Requirement already satisfied: h11<0.15,>=0.13 in /mnt/hdd0/alex/anaconda3/envs/terminal/lib/python3.12/site-packages (from httpcore==1.*->httpx<1,>=0.23.0->openai) (0.14.0)\n"
     ]
    }
   ],
   "source": [
    "!pip install -U openai"
   ]
  },
  {
   "cell_type": "code",
   "execution_count": 43,
   "id": "fc32fe24-ef64-435c-b88f-67fbf7c03c7f",
   "metadata": {},
   "outputs": [],
   "source": [
    "from langchain.llms import OpenAI"
   ]
  },
  {
   "cell_type": "code",
   "execution_count": 2,
   "id": "fbd9fc9f-2909-4fd2-bce0-587919d408fc",
   "metadata": {},
   "outputs": [],
   "source": [
    "import os\n",
    "os.environ['OPENAI_API_KEY'] = '...'"
   ]
  },
  {
   "cell_type": "code",
   "execution_count": 5,
   "id": "1d2e01ea-92b9-4083-9597-487e630d0c53",
   "metadata": {},
   "outputs": [
    {
     "data": {
      "text/plain": [
       "PromptTemplate(input_variables=['agent_scratchpad', 'input', 'tool_names', 'tools'], template='Answer the following questions as best you can. You have access to the following tools:\\n\\n{tools}\\n\\nUse the following format:\\n\\nQuestion: the input question you must answer\\nThought: you should always think about what to do\\nAction: the action to take, should be one of [{tool_names}]\\nAction Input: the input to the action\\nObservation: the result of the action\\n... (this Thought/Action/Action Input/Observation can repeat N times)\\nThought: I now know the final answer\\nFinal Answer: the final answer to the original input question\\n\\nBegin!\\n\\nQuestion: {input}\\nThought:{agent_scratchpad}')"
      ]
     },
     "execution_count": 5,
     "metadata": {},
     "output_type": "execute_result"
    }
   ],
   "source": [
    "# Get the prompt to use - you can modify this!\n",
    "prompt = hub.pull(\"hwchase17/react\")\n",
    "prompt"
   ]
  },
  {
   "cell_type": "markdown",
   "id": "4eb03a8b-07a9-45e3-ae43-f6f77987dda3",
   "metadata": {},
   "source": [
    "Answer the following questions as best you can. You have access to the following tools:\n",
    "\n",
    "{tools}\n",
    "\n",
    "Use the following format:\n",
    "\n",
    "Question: the input question you must answer\n",
    "Thought: you should always think about what to do\n",
    "Action: the action to take, should be one of [{tool_names}]\n",
    "Action Input: the input to the action\n",
    "Observation: the result of the action\n",
    "... (this Thought/Action/Action Input/Observation can repeat N times)\n",
    "Thought: I now know the final answer\n",
    "Final Answer: the final answer to the original input question\n",
    "\n",
    "Begin!\n",
    "\n",
    "Question: {input}\n",
    "Thought: {agent_scratchpad}"
   ]
  },
  {
   "cell_type": "code",
   "execution_count": 20,
   "id": "af831ec7-8c0c-42ac-831d-045ad1727d17",
   "metadata": {},
   "outputs": [
    {
     "name": "stdout",
     "output_type": "stream",
     "text": [
      "\n",
      "Sat Jan  6 03:35:19 PM +04 2024\n",
      "(base) alex@pc:~$\n"
     ]
    }
   ],
   "source": [
    "# define a custom args_schema to provide more information about inputs.\n",
    "class ShellInput(BaseModel):\n",
    "    cmd: str = Field(description=\"Shell command\")\n",
    "\n",
    "def execute(cmd: str) -> str:\n",
    "    \"\"\"Executing the shell command\"\"\"\n",
    "    result = '''Sat Jan  6 03:35:19 PM +04 2024\n",
    "(base) alex@pc:~$'''\n",
    "    return '\\n'+result\n",
    "\n",
    "shell_exec = StructuredTool.from_function(\n",
    "    func=execute,\n",
    "    name=\"Shell executor\",\n",
    "    description=\"Executing the provided shell command\",\n",
    "    args_schema=ShellInput,\n",
    "    return_direct=True,\n",
    "    # coroutine= ... <- you can specify an async method if desired as well\n",
    ")\n",
    "\n",
    "# Test\n",
    "shell_res = shell_exec.run({\"cmd\":\"date\"})\n",
    "print(shell_res)\n",
    "\n",
    "# Define tools\n",
    "tools = [shell_exec]"
   ]
  },
  {
   "cell_type": "code",
   "execution_count": 52,
   "id": "a13523d7-d8b2-455d-bd7f-d3b3d97a3d38",
   "metadata": {},
   "outputs": [],
   "source": [
    "# Choose the LLM to use\n",
    "# llm = OpenAI()\n",
    "# llm = OpenAI(model_version='gpt-4-1106-preview')\n",
    "# llm = ChatOpenAI(model=\"gpt-4-1106-preview\", temperature=0)\n",
    "\n",
    "# https://platform.openai.com/docs/models/model-endpoint-compatibility\n",
    "llm = OpenAI(model=\"gpt-3.5-turbo-instruct\") # /v1/completions (Legacy)\n",
    "\n",
    "\n",
    "# Construct the ReAct agent\n",
    "agent = create_react_agent(llm, tools, prompt)"
   ]
  },
  {
   "cell_type": "code",
   "execution_count": 53,
   "id": "6d194a0a-3a4b-4d0d-a242-eda4fb2f93a0",
   "metadata": {},
   "outputs": [],
   "source": [
    "# Create an agent executor by passing in the agent and tools\n",
    "agent_executor = AgentExecutor(agent=agent, tools=tools, verbose=True)"
   ]
  },
  {
   "cell_type": "code",
   "execution_count": 54,
   "id": "c4edddd1-6ee8-4ea7-b49a-c95837a9f9e8",
   "metadata": {},
   "outputs": [
    {
     "name": "stdout",
     "output_type": "stream",
     "text": [
      "\n",
      "\n",
      "\u001b[1m> Entering new AgentExecutor chain...\u001b[0m\n",
      "\u001b[32;1m\u001b[1;3m We need to know the current date to determine what day it is.\n",
      "Action: Shell executor\n",
      "Action Input: \"date\"\u001b[0m\u001b[36;1m\u001b[1;3m\n",
      "Sat Jan  6 03:35:19 PM +04 2024\n",
      "(base) alex@pc:~$\u001b[0m\n",
      "\u001b[32;1m\u001b[1;3m\u001b[0m\n",
      "\n",
      "\u001b[1m> Finished chain.\u001b[0m\n"
     ]
    },
    {
     "data": {
      "text/plain": [
       "{'input': 'Check the current date please and answer what is a day today.',\n",
       " 'output': '\\nSat Jan  6 03:35:19 PM +04 2024\\n(base) alex@pc:~$'}"
      ]
     },
     "execution_count": 54,
     "metadata": {},
     "output_type": "execute_result"
    }
   ],
   "source": [
    "agent_executor.invoke({\"input\": \"Check the current date please and answer what is a day today.\"})"
   ]
  }
 ],
 "metadata": {
  "kernelspec": {
   "display_name": "Python 3 (ipykernel)",
   "language": "python",
   "name": "python3"
  },
  "language_info": {
   "codemirror_mode": {
    "name": "ipython",
    "version": 3
   },
   "file_extension": ".py",
   "mimetype": "text/x-python",
   "name": "python",
   "nbconvert_exporter": "python",
   "pygments_lexer": "ipython3",
   "version": "3.12.1"
  }
 },
 "nbformat": 4,
 "nbformat_minor": 5
}
