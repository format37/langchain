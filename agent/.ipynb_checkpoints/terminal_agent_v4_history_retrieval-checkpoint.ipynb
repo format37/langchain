{
 "cells": [
  {
   "cell_type": "code",
   "execution_count": null,
   "id": "eab51390-6178-4f4f-aac8-b3684784cc9a",
   "metadata": {},
   "outputs": [],
   "source": [
    "# https://arize.com/blog-course/react-agent-llm/"
   ]
  },
  {
   "cell_type": "code",
   "execution_count": null,
   "id": "e1e73352-57a4-41a9-b91b-0f4bb81f1154",
   "metadata": {},
   "outputs": [],
   "source": [
    "# !pip install -U duckduckgo-search"
   ]
  },
  {
   "cell_type": "code",
   "execution_count": 9,
   "id": "f2e47e6a-9119-4a69-a1fd-0441fac90d12",
   "metadata": {},
   "outputs": [],
   "source": [
    "import warnings\n",
    "\n",
    "from langchain.agents import initialize_agent\n",
    "from langchain.chat_models import ChatOpenAI\n",
    "\n",
    "from langchain.agents import load_tools\n",
    "from langchain.tools import ShellTool\n",
    "from langchain.tools import DuckDuckGoSearchRun\n",
    "\n",
    "from langchain.document_loaders import TextLoader, DirectoryLoader\n",
    "from langchain_community.embeddings import OpenAIEmbeddings\n",
    "from langchain.text_splitter import RecursiveCharacterTextSplitter\n",
    "from langchain_community.vectorstores import DocArrayInMemorySearch\n",
    "from langchain.chains import create_history_aware_retriever"
   ]
  },
  {
   "cell_type": "code",
   "execution_count": 2,
   "id": "29398a81-b3b7-4b62-ac2d-7a52d2f3e561",
   "metadata": {},
   "outputs": [],
   "source": [
    "# Suppress UserWarnings\n",
    "warnings.filterwarnings('ignore', category=UserWarning)"
   ]
  },
  {
   "cell_type": "code",
   "execution_count": 3,
   "id": "dd949ca3-a486-4733-830d-bd26a6f8ffb9",
   "metadata": {},
   "outputs": [],
   "source": [
    "import os\n",
    "openai_api_key = \"...\" # https://platform.openai.com/\n",
    "os.environ[\"OPENAI_API_KEY\"] = openai_api_key"
   ]
  },
  {
   "cell_type": "code",
   "execution_count": 4,
   "id": "0de49e50-c779-4a10-bb0c-6c533e332581",
   "metadata": {},
   "outputs": [],
   "source": [
    "llm = ChatOpenAI(model='gpt-3.5-turbo', temperature=0)\n",
    "tools = load_tools(['terminal'], llm=llm)"
   ]
  },
  {
   "cell_type": "code",
   "execution_count": 5,
   "id": "5eb566cd-b203-4fa9-a550-631e0ffde90b",
   "metadata": {},
   "outputs": [],
   "source": [
    "# https://python.langchain.com/docs/integrations/tools/\n",
    "tools.append(DuckDuckGoSearchRun())"
   ]
  },
  {
   "cell_type": "code",
   "execution_count": 8,
   "id": "e94deef4-3599-41d3-8d8e-0a63b55a7fe2",
   "metadata": {},
   "outputs": [
    {
     "name": "stdout",
     "output_type": "stream",
     "text": [
      "Documents: 1\n",
      "page_content='In circuits bright, where logic flows,\\nA robot mused, with wires aglow.\\n\"Two plus three, in silicon heaven,\\nIs not five, but rather seven.\"' metadata={'source': 'context/poem.txt'}\n"
     ]
    }
   ],
   "source": [
    "context_path = './context'\n",
    "loader = DirectoryLoader(context_path, glob=\"*\", loader_cls=TextLoader)\n",
    "docs = loader.load()\n",
    "embeddings = OpenAIEmbeddings()\n",
    "text_splitter = RecursiveCharacterTextSplitter()\n",
    "documents = text_splitter.split_documents(docs)\n",
    "# Print documents\n",
    "print(f\"Documents: {len(documents)}\")\n",
    "for doc_element in documents:\n",
    "    print(doc_element)\n",
    "vector = DocArrayInMemorySearch.from_documents(documents, embeddings)"
   ]
  },
  {
   "cell_type": "code",
   "execution_count": null,
   "id": "2393f60b-80d2-490b-a6fb-94b77521a117",
   "metadata": {},
   "outputs": [],
   "source": [
    "retriever = vector.as_retriever()\n",
    "retriever_chain = create_history_aware_retriever(chat, retriever, prompt)"
   ]
  },
  {
   "cell_type": "code",
   "execution_count": null,
   "id": "c5e83e64-b52b-4047-adda-0581890c93ed",
   "metadata": {},
   "outputs": [],
   "source": [
    "# https://api.python.langchain.com/en/latest/agents/langchain.agents.agent_types.AgentType.html\n",
    "# agent_type = 'chat-zero-shot-react-description'\n",
    "agent_type = 'chat-conversational-react-description'\n",
    "agent = initialize_agent(tools, llm, agent=agent_type, verbose=True, handle_parsing_errors=True)"
   ]
  },
  {
   "cell_type": "code",
   "execution_count": null,
   "id": "5d87dd51-c3f8-4c76-8a0f-7401ea1568ac",
   "metadata": {},
   "outputs": [],
   "source": [
    "# History\n",
    "chat_history = []\n",
    "# messages.append(SystemMessage(content=system_text))"
   ]
  },
  {
   "cell_type": "code",
   "execution_count": null,
   "id": "c445702e-867e-42fb-9aa3-eb0ca456abc1",
   "metadata": {},
   "outputs": [],
   "source": [
    "# agent.agent.llm_chain.prompt.messages[0].prompt.template"
   ]
  },
  {
   "cell_type": "code",
   "execution_count": null,
   "id": "0da42eaa-4427-4639-a5e4-5c91a5cf4cd5",
   "metadata": {},
   "outputs": [],
   "source": [
    "agent.run(input=\"Do you know the capital of Britain?\", chat_history=chat_history)"
   ]
  },
  {
   "cell_type": "code",
   "execution_count": null,
   "id": "428d91c3-c71a-4cd1-8e7b-790d3ad65904",
   "metadata": {},
   "outputs": [],
   "source": [
    "agent.run(\n",
    "    input=\"Check the date and the list of the current directory. Do we have a file that contins a name of Capital of Britain?\", \n",
    "    chat_history=chat_history\n",
    ")"
   ]
  },
  {
   "cell_type": "code",
   "execution_count": null,
   "id": "cbcb2942-9193-44aa-9634-141c98075d7f",
   "metadata": {},
   "outputs": [],
   "source": []
  }
 ],
 "metadata": {
  "kernelspec": {
   "display_name": "Python 3 (ipykernel)",
   "language": "python",
   "name": "python3"
  },
  "language_info": {
   "codemirror_mode": {
    "name": "ipython",
    "version": 3
   },
   "file_extension": ".py",
   "mimetype": "text/x-python",
   "name": "python",
   "nbconvert_exporter": "python",
   "pygments_lexer": "ipython3",
   "version": "3.12.1"
  }
 },
 "nbformat": 4,
 "nbformat_minor": 5
}
