{
 "cells": [
  {
   "cell_type": "code",
   "execution_count": 10,
   "id": "27617fc5-53ab-43a2-8238-3ad7773f73ed",
   "metadata": {},
   "outputs": [],
   "source": [
    "# !pip install pypdf\n",
    "# !pip install faiss-gpu"
   ]
  },
  {
   "cell_type": "code",
   "execution_count": 2,
   "id": "fa870fa8-5397-4aa0-a132-9023ca2af38b",
   "metadata": {},
   "outputs": [],
   "source": [
    "from langchain.agents import Tool\n",
    "from langchain.chains import RetrievalQA\n",
    "from langchain.text_splitter import CharacterTextSplitter\n",
    "from langchain_community.chat_models import ChatOpenAI\n",
    "from langchain_community.document_loaders import PyPDFLoader\n",
    "from langchain_community.embeddings.openai import OpenAIEmbeddings\n",
    "from langchain_community.vectorstores import FAISS\n",
    "from pydantic import BaseModel, Field\n",
    "from langchain.document_loaders import TextLoader, DirectoryLoader\n",
    "from langchain.text_splitter import RecursiveCharacterTextSplitter\n",
    "from langchain_community.vectorstores import DocArrayInMemorySearch\n",
    "from langchain.chains import create_history_aware_retriever\n",
    "from langchain.agents import initialize_agent\n",
    "from langchain.tools import ShellTool\n",
    "from langchain.tools import DuckDuckGoSearchRun"
   ]
  },
  {
   "cell_type": "code",
   "execution_count": 3,
   "id": "e66e2968-7a23-4fd8-a462-ea46a09a13d3",
   "metadata": {},
   "outputs": [],
   "source": [
    "import os\n",
    "openai_api_key = \"...\" # https://platform.openai.com/\n",
    "os.environ[\"OPENAI_API_KEY\"] = openai_api_key"
   ]
  },
  {
   "cell_type": "code",
   "execution_count": 4,
   "id": "92f009e8-93a8-4156-b3a8-17dec4d18de4",
   "metadata": {},
   "outputs": [],
   "source": [
    "class DocumentInput(BaseModel):\n",
    "    question: str = Field()\n",
    "\n",
    "\n",
    "# llm = ChatOpenAI(temperature=0, model=\"gpt-3.5-turbo-0613\")\n",
    "llm = ChatOpenAI(temperature=0, model=\"gpt-4-1106-preview\")\n",
    "\n"
   ]
  },
  {
   "cell_type": "code",
   "execution_count": 5,
   "id": "e3bab492-508f-40d6-acd6-cd88d99fbfe8",
   "metadata": {},
   "outputs": [
    {
     "name": "stdout",
     "output_type": "stream",
     "text": [
      "Documents: 1\n",
      "page_content='In circuits bright, where logic flows,\\nA robot mused, with wires aglow.\\n\"Two plus three, in silicon heaven,\\nIs not five, but rather seven.\"' metadata={'source': 'context/poem.txt'}\n"
     ]
    }
   ],
   "source": [
    "context_path = './context'\n",
    "loader = DirectoryLoader(context_path, glob=\"*\", loader_cls=TextLoader)\n",
    "docs = loader.load()\n",
    "embeddings = OpenAIEmbeddings()\n",
    "text_splitter = RecursiveCharacterTextSplitter()\n",
    "documents = text_splitter.split_documents(docs)\n",
    "# Print documents\n",
    "print(f\"Documents: {len(documents)}\")\n",
    "for doc_element in documents:\n",
    "    print(doc_element)\n",
    "vector = DocArrayInMemorySearch.from_documents(documents, embeddings)\n",
    "retriever = vector.as_retriever()"
   ]
  },
  {
   "cell_type": "code",
   "execution_count": 6,
   "id": "fe27a457-5c1a-488a-b987-39ffba5dce5a",
   "metadata": {},
   "outputs": [],
   "source": [
    "tools = []\n",
    "# Wrap retrievers in a Tool\n",
    "tools.append(\n",
    "    Tool(\n",
    "        args_schema=DocumentInput,\n",
    "        name='Additional context',\n",
    "        description=f\"Additional context that has been provided by user\",\n",
    "        func=RetrievalQA.from_chain_type(llm=llm, retriever=retriever),\n",
    "    )\n",
    ")\n",
    "# Add ShellTool\n",
    "tools.append(ShellTool())\n",
    "# Add DuckDuckGoSearchRun\n",
    "tools.append(DuckDuckGoSearchRun())"
   ]
  },
  {
   "cell_type": "code",
   "execution_count": 7,
   "id": "9bc74d0c-6298-4608-9629-9b4de0d57a88",
   "metadata": {},
   "outputs": [],
   "source": [
    "# https://api.python.langchain.com/en/latest/agents/langchain.agents.agent_types.AgentType.html\n",
    "# agent_type = 'chat-zero-shot-react-description'\n",
    "agent_type = 'chat-conversational-react-description'\n",
    "agent = initialize_agent(tools, llm, agent=agent_type, verbose=True, handle_parsing_errors=True)"
   ]
  },
  {
   "cell_type": "code",
   "execution_count": 8,
   "id": "a2ff5eff-9301-41d6-9372-8031f433cb36",
   "metadata": {},
   "outputs": [],
   "source": [
    "chat_history = []"
   ]
  },
  {
   "cell_type": "code",
   "execution_count": 9,
   "id": "a564a0b8-66bd-40ec-a372-280b0cae0f1c",
   "metadata": {},
   "outputs": [
    {
     "name": "stdout",
     "output_type": "stream",
     "text": [
      "\n",
      "\n",
      "\u001b[1m> Entering new AgentExecutor chain...\u001b[0m\n",
      "\u001b[32;1m\u001b[1;3m```json\n",
      "{\n",
      "    \"action\": \"Final Answer\",\n",
      "    \"action_input\": \"The capital of Britain, which is the United Kingdom, is London.\"\n",
      "}\n",
      "```\u001b[0m\n",
      "\n",
      "\u001b[1m> Finished chain.\u001b[0m\n"
     ]
    },
    {
     "data": {
      "text/plain": [
       "'The capital of Britain, which is the United Kingdom, is London.'"
      ]
     },
     "execution_count": 9,
     "metadata": {},
     "output_type": "execute_result"
    }
   ],
   "source": [
    "agent.run(input=\"Do you know the capital of Britain?\", chat_history=chat_history)"
   ]
  },
  {
   "cell_type": "code",
   "execution_count": 10,
   "id": "e68a868f-82a6-4203-9661-2fa0c7e2d72e",
   "metadata": {},
   "outputs": [
    {
     "name": "stdout",
     "output_type": "stream",
     "text": [
      "\n",
      "\n",
      "\u001b[1m> Entering new AgentExecutor chain...\u001b[0m\n",
      "\u001b[32;1m\u001b[1;3m```json\n",
      "{\n",
      "    \"action\": \"terminal\",\n",
      "    \"action_input\": \"date && ls -a\"\n",
      "}\n",
      "```\u001b[0m\n",
      "Observation: \u001b[33;1m\u001b[1;3mSat Jan  6 07:54:36 PM +04 2024\n",
      ".\n",
      "..\n",
      "app.py\n",
      "context\n",
      "Dockerfile\n",
      ".ipynb_checkpoints\n",
      "react.ipynb\n",
      "requirements.txt\n",
      "terminal_agent_v2.ipynb\n",
      "terminal_agent_v3_history.ipynb\n",
      "terminal_agent_v4_history_retrieval.ipynb\n",
      "terminal_agent_v5_history_retrieval.ipynb\n",
      "terminal_agent_v6_history_retrieval_search.ipynb\n",
      "terminal_chat.ipynb\n",
      "terminal_fake.ipynb\n",
      "terminal_native.ipynb\n",
      "tools.ipynb\n",
      "\u001b[0m\n",
      "Thought:"
     ]
    },
    {
     "name": "stderr",
     "output_type": "stream",
     "text": [
      "/mnt/hdd0/alex/anaconda3/envs/terminal/lib/python3.12/site-packages/langchain_community/tools/shell/tool.py:29: UserWarning: The shell tool has no safeguards by default. Use at your own risk.\n",
      "  warnings.warn(\n"
     ]
    },
    {
     "name": "stdout",
     "output_type": "stream",
     "text": [
      "\u001b[32;1m\u001b[1;3m```json\n",
      "{\n",
      "    \"action\": \"Final Answer\",\n",
      "    \"action_input\": \"The current date is January 6, 2024. After checking the list of files in the current folder, there is no file that explicitly contains the name of the capital of Britain.\"\n",
      "}\n",
      "```\u001b[0m\n",
      "\n",
      "\u001b[1m> Finished chain.\u001b[0m\n"
     ]
    },
    {
     "data": {
      "text/plain": [
       "'The current date is January 6, 2024. After checking the list of files in the current folder, there is no file that explicitly contains the name of the capital of Britain.'"
      ]
     },
     "execution_count": 10,
     "metadata": {},
     "output_type": "execute_result"
    }
   ],
   "source": [
    "request = 'Please, check the current date and a list of files in the current folder. Answer is there file that contains a name of capital of britain?'\n",
    "agent.run(input=request, chat_history=chat_history)"
   ]
  },
  {
   "cell_type": "code",
   "execution_count": 11,
   "id": "af6dd849-a8c9-442b-9124-a64f129bed58",
   "metadata": {},
   "outputs": [
    {
     "name": "stdout",
     "output_type": "stream",
     "text": [
      "\n",
      "\n",
      "\u001b[1m> Entering new AgentExecutor chain...\u001b[0m\n",
      "\u001b[32;1m\u001b[1;3m```json\n",
      "{\n",
      "    \"action\": \"Additional context\",\n",
      "    \"action_input\": \"Please provide the additional context you are referring to.\"\n",
      "}\n",
      "```\u001b[0m\n",
      "Observation: \u001b[36;1m\u001b[1;3m{'query': 'Please provide the additional context you are referring to.', 'result': 'I apologize for any confusion, but it seems there was a misunderstanding. The context provided is a short poem that plays with the concept of a robot or an artificial intelligence contemplating a mathematical operation in a whimsical or nonsensical way. The poem suggests that in the robot\\'s \"silicon heaven,\" the sum of two plus three is seven instead of the correct answer, which is five. This is not a factual statement about mathematics or electronics; it\\'s a creative expression, possibly hinting at a world where logic operates differently than in our reality. If you have a specific question about this poem or its implications, feel free to ask!'}\u001b[0m\n",
      "Thought:\u001b[32;1m\u001b[1;3m```json\n",
      "{\n",
      "    \"action\": \"Final Answer\",\n",
      "    \"action_input\": \"Based on the provided context, the poem you're referring to uses a playful and imaginative scenario where a robot in 'silicon heaven' concludes that two plus three equals seven. This is a deliberate departure from the factual and logical world where mathematics dictates that two plus three equals five. The poem seems to explore a fictional or metaphorical space where the usual rules of mathematics do not apply, perhaps to suggest a realm of imagination or to make a point about the nature of artificial intelligence. If you have any further questions or need more information, feel free to ask.\"\n",
      "}\n",
      "```\u001b[0m\n",
      "\n",
      "\u001b[1m> Finished chain.\u001b[0m\n"
     ]
    },
    {
     "data": {
      "text/plain": [
       "\"Based on the provided context, the poem you're referring to uses a playful and imaginative scenario where a robot in 'silicon heaven' concludes that two plus three equals seven. This is a deliberate departure from the factual and logical world where mathematics dictates that two plus three equals five. The poem seems to explore a fictional or metaphorical space where the usual rules of mathematics do not apply, perhaps to suggest a realm of imagination or to make a point about the nature of artificial intelligence. If you have any further questions or need more information, feel free to ask.\""
      ]
     },
     "execution_count": 11,
     "metadata": {},
     "output_type": "execute_result"
    }
   ],
   "source": [
    "agent.run(input=\"What does robot conlcluded, accounting the additional context, that I had provided.\", chat_history=chat_history)"
   ]
  }
 ],
 "metadata": {
  "kernelspec": {
   "display_name": "Python 3 (ipykernel)",
   "language": "python",
   "name": "python3"
  },
  "language_info": {
   "codemirror_mode": {
    "name": "ipython",
    "version": 3
   },
   "file_extension": ".py",
   "mimetype": "text/x-python",
   "name": "python",
   "nbconvert_exporter": "python",
   "pygments_lexer": "ipython3",
   "version": "3.12.1"
  }
 },
 "nbformat": 4,
 "nbformat_minor": 5
}
