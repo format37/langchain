{
 "cells": [
  {
   "cell_type": "code",
   "execution_count": null,
   "id": "eab51390-6178-4f4f-aac8-b3684784cc9a",
   "metadata": {},
   "outputs": [],
   "source": [
    "# https://arize.com/blog-course/react-agent-llm/"
   ]
  },
  {
   "cell_type": "code",
   "execution_count": 2,
   "id": "f2e47e6a-9119-4a69-a1fd-0441fac90d12",
   "metadata": {},
   "outputs": [],
   "source": [
    "import warnings\n",
    "\n",
    "from langchain.agents import initialize_agent\n",
    "from langchain.chat_models import ChatOpenAI\n",
    "\n",
    "from langchain.agents import load_tools\n",
    "from langchain.tools import ShellTool\n",
    "from langchain.tools import DuckDuckGoSearchRun"
   ]
  },
  {
   "cell_type": "code",
   "execution_count": 3,
   "id": "29398a81-b3b7-4b62-ac2d-7a52d2f3e561",
   "metadata": {},
   "outputs": [],
   "source": [
    "# Suppress UserWarnings\n",
    "warnings.filterwarnings('ignore', category=UserWarning)"
   ]
  },
  {
   "cell_type": "code",
   "execution_count": 4,
   "id": "dd949ca3-a486-4733-830d-bd26a6f8ffb9",
   "metadata": {},
   "outputs": [],
   "source": [
    "import os\n",
    "os.environ[\"OPENAI_API_KEY\"] = \"...\" # https://platform.openai.com/"
   ]
  },
  {
   "cell_type": "code",
   "execution_count": null,
   "id": "6c9fac18-c48b-4a74-a0d1-2e7f5f90f2f3",
   "metadata": {},
   "outputs": [],
   "source": [
    "# !pip install -U duckduckgo-search"
   ]
  },
  {
   "cell_type": "code",
   "execution_count": 5,
   "id": "0de49e50-c779-4a10-bb0c-6c533e332581",
   "metadata": {},
   "outputs": [],
   "source": [
    "llm = ChatOpenAI(model='gpt-3.5-turbo', temperature=0)\n",
    "tools = load_tools(['terminal'], llm=llm)"
   ]
  },
  {
   "cell_type": "code",
   "execution_count": 6,
   "id": "5eb566cd-b203-4fa9-a550-631e0ffde90b",
   "metadata": {},
   "outputs": [],
   "source": [
    "tools.append(DuckDuckGoSearchRun())"
   ]
  },
  {
   "cell_type": "code",
   "execution_count": 7,
   "id": "8ff617b4-85b1-4e02-b53c-e31d469d9085",
   "metadata": {},
   "outputs": [
    {
     "data": {
      "text/plain": [
       "[ShellTool(process=<langchain_experimental.llm_bash.bash.BashProcess object at 0x7f28f1019520>),\n",
       " DuckDuckGoSearchRun()]"
      ]
     },
     "execution_count": 7,
     "metadata": {},
     "output_type": "execute_result"
    }
   ],
   "source": [
    "tools"
   ]
  },
  {
   "cell_type": "code",
   "execution_count": 8,
   "id": "c5e83e64-b52b-4047-adda-0581890c93ed",
   "metadata": {},
   "outputs": [],
   "source": [
    "# https://api.python.langchain.com/en/latest/agents/langchain.agents.agent_types.AgentType.html\n",
    "# agent_type = 'chat-zero-shot-react-description'\n",
    "agent_type = 'chat-conversational-react-description'\n",
    "agent = initialize_agent(tools, llm, agent=agent_type, verbose=True, handle_parsing_errors=True)"
   ]
  },
  {
   "cell_type": "code",
   "execution_count": 13,
   "id": "677fcc48-43cf-42da-89c5-bdbc205ec406",
   "metadata": {},
   "outputs": [
    {
     "data": {
      "text/plain": [
       "ChatPromptTemplate(input_variables=['agent_scratchpad', 'chat_history', 'input'], input_types={'chat_history': typing.List[typing.Union[langchain_core.messages.ai.AIMessage, langchain_core.messages.human.HumanMessage, langchain_core.messages.chat.ChatMessage, langchain_core.messages.system.SystemMessage, langchain_core.messages.function.FunctionMessage, langchain_core.messages.tool.ToolMessage]], 'agent_scratchpad': typing.List[typing.Union[langchain_core.messages.ai.AIMessage, langchain_core.messages.human.HumanMessage, langchain_core.messages.chat.ChatMessage, langchain_core.messages.system.SystemMessage, langchain_core.messages.function.FunctionMessage, langchain_core.messages.tool.ToolMessage]]}, messages=[SystemMessagePromptTemplate(prompt=PromptTemplate(input_variables=[], template='Assistant is a large language model trained by OpenAI.\\n\\nAssistant is designed to be able to assist with a wide range of tasks, from answering simple questions to providing in-depth explanations and discussions on a wide range of topics. As a language model, Assistant is able to generate human-like text based on the input it receives, allowing it to engage in natural-sounding conversations and provide responses that are coherent and relevant to the topic at hand.\\n\\nAssistant is constantly learning and improving, and its capabilities are constantly evolving. It is able to process and understand large amounts of text, and can use this knowledge to provide accurate and informative responses to a wide range of questions. Additionally, Assistant is able to generate its own text based on the input it receives, allowing it to engage in discussions and provide explanations and descriptions on a wide range of topics.\\n\\nOverall, Assistant is a powerful system that can help with a wide range of tasks and provide valuable insights and information on a wide range of topics. Whether you need help with a specific question or just want to have a conversation about a particular topic, Assistant is here to assist.')), MessagesPlaceholder(variable_name='chat_history'), HumanMessagePromptTemplate(prompt=PromptTemplate(input_variables=['input'], template='TOOLS\\n------\\nAssistant can ask the user to use tools to look up information that may be helpful in answering the users original question. The tools the human can use are:\\n\\n> terminal: Run shell commands on this Linux machine.\\n> duckduckgo_search: A wrapper around DuckDuckGo Search. Useful for when you need to answer questions about current events. Input should be a search query.\\n\\nRESPONSE FORMAT INSTRUCTIONS\\n----------------------------\\n\\nWhen responding to me, please output a response in one of two formats:\\n\\n**Option 1:**\\nUse this if you want the human to use a tool.\\nMarkdown code snippet formatted in the following schema:\\n\\n```json\\n{{\\n    \"action\": string, \\\\\\\\ The action to take. Must be one of terminal, duckduckgo_search\\n    \"action_input\": string \\\\\\\\ The input to the action\\n}}\\n```\\n\\n**Option #2:**\\nUse this if you want to respond directly to the human. Markdown code snippet formatted in the following schema:\\n\\n```json\\n{{\\n    \"action\": \"Final Answer\",\\n    \"action_input\": string \\\\\\\\ You should put what you want to return to use here\\n}}\\n```\\n\\nUSER\\'S INPUT\\n--------------------\\nHere is the user\\'s input (remember to respond with a markdown code snippet of a json blob with a single action, and NOTHING else):\\n\\n{input}')), MessagesPlaceholder(variable_name='agent_scratchpad')])"
      ]
     },
     "execution_count": 13,
     "metadata": {},
     "output_type": "execute_result"
    }
   ],
   "source": [
    "prompt = agent.agent.llm_chain.prompt\n",
    "prompt"
   ]
  },
  {
   "cell_type": "code",
   "execution_count": 18,
   "id": "5d87dd51-c3f8-4c76-8a0f-7401ea1568ac",
   "metadata": {},
   "outputs": [],
   "source": [
    "# History\n",
    "chat_history = []\n",
    "# messages.append(SystemMessage(content=system_text))"
   ]
  },
  {
   "cell_type": "code",
   "execution_count": null,
   "id": "c445702e-867e-42fb-9aa3-eb0ca456abc1",
   "metadata": {},
   "outputs": [],
   "source": [
    "# agent.agent.llm_chain.prompt.messages[0].prompt.template"
   ]
  },
  {
   "cell_type": "code",
   "execution_count": 20,
   "id": "0da42eaa-4427-4639-a5e4-5c91a5cf4cd5",
   "metadata": {},
   "outputs": [
    {
     "name": "stdout",
     "output_type": "stream",
     "text": [
      "\n",
      "\n",
      "\u001b[1m> Entering new AgentExecutor chain...\u001b[0m\n",
      "\u001b[32;1m\u001b[1;3m{\n",
      "    \"action\": \"duckduckgo_search\",\n",
      "    \"action_input\": \"capital of Britain\"\n",
      "}\u001b[0m\n",
      "Observation: \u001b[33;1m\u001b[1;3mnational capital, United Kingdom Cite External Websites Also known as: Londinium Written by Hugh D. Clout Professor of Geography, University College London, University of London. Editor of The Times London History Atlas and many others. Hugh D. Clout, Blake Ehrlich Author of Paris on the Seine; London on the Thames. Blake Ehrlich, Capital: London Population: (2023 est.) 67,879,000 Currency Exchange Rate: 1 USD equals 0.814 British pound Head Of State: Sovereign: King Charles III Located in the southeastern part of England on the banks of the Thames River is London - the capital and the largest city of United Kingdom. It is also the capital of England and is the administrative, economic, financial, commercial and cultural center of the entire United Kingdom. Where is The United Kingdom? Capital: London Area: 242,945 sq km Population: 67.7 million Languages: English, also Scots, Ulster Scots, Scottish Gaelic, Irish, Welsh, Cornish Life expectancy: 79 years (men) 83 years (women)... England, predominant constituent unit of the United Kingdom, occupying more than half of the island of Great Britain.\u001b[0m\n",
      "Thought:\u001b[32;1m\u001b[1;3m{\n",
      "    \"action\": \"Final Answer\",\n",
      "    \"action_input\": \"The capital of Britain is London.\"\n",
      "}\u001b[0m\n",
      "\n",
      "\u001b[1m> Finished chain.\u001b[0m\n"
     ]
    },
    {
     "data": {
      "text/plain": [
       "'The capital of Britain is London.'"
      ]
     },
     "execution_count": 20,
     "metadata": {},
     "output_type": "execute_result"
    }
   ],
   "source": [
    "agent.run(input=\"Do you know the capital of Britain?\", chat_history=chat_history)"
   ]
  },
  {
   "cell_type": "code",
   "execution_count": 23,
   "id": "428d91c3-c71a-4cd1-8e7b-790d3ad65904",
   "metadata": {},
   "outputs": [
    {
     "name": "stdout",
     "output_type": "stream",
     "text": [
      "\n",
      "\n",
      "\u001b[1m> Entering new AgentExecutor chain...\u001b[0m\n",
      "\u001b[32;1m\u001b[1;3m{\n",
      "    \"action\": \"terminal\",\n",
      "    \"action_input\": \"ls -l && date\"\n",
      "}\u001b[0m\n",
      "Observation: \u001b[36;1m\u001b[1;3mtotal 112\n",
      "-rw-rw-r-- 1 alex alex  5013 Jan  5 08:36 app.py\n",
      "-rw-rw-r-- 1 alex alex   173 Jan  5 01:21 Dockerfile\n",
      "-rw-rw-r-- 1 alex alex  8457 Jan  6 15:02 react.ipynb\n",
      "-rw-rw-r-- 1 alex alex   139 Jan  5 08:30 requirements.txt\n",
      "-rw-rw-r-- 1 alex alex  8153 Jan  6 18:01 terminal_agent_v2.ipynb\n",
      "-rw-rw-r-- 1 alex alex  8874 Jan  6 18:15 terminal_agent_v3_history.ipynb\n",
      "-rw-rw-r-- 1 alex alex 24212 Jan  6 17:06 terminal_chat.ipynb\n",
      "-rw-rw-r-- 1 alex alex  8970 Jan  6 15:57 terminal_fake.ipynb\n",
      "-rw-rw-r-- 1 alex alex 12607 Jan  6 16:41 terminal_native.ipynb\n",
      "-rw-rw-r-- 1 alex alex 10311 Jan  6 15:32 tools.ipynb\n",
      "Sat Jan  6 06:16:48 PM +04 2024\n",
      "\u001b[0m\n",
      "Thought:\u001b[32;1m\u001b[1;3m{\n",
      "    \"action\": \"Final Answer\",\n",
      "    \"action_input\": \"The current directory contains several files, including 'app.py', 'Dockerfile', 'react.ipynb', 'requirements.txt', and others. The date and time is Saturday, January 6, 2024, 06:16 PM +04.\"\n",
      "}\u001b[0m\n",
      "\n",
      "\u001b[1m> Finished chain.\u001b[0m\n"
     ]
    },
    {
     "data": {
      "text/plain": [
       "\"The current directory contains several files, including 'app.py', 'Dockerfile', 'react.ipynb', 'requirements.txt', and others. The date and time is Saturday, January 6, 2024, 06:16 PM +04.\""
      ]
     },
     "execution_count": 23,
     "metadata": {},
     "output_type": "execute_result"
    }
   ],
   "source": [
    "agent.run(\n",
    "    input=\"Check the date and the list of the current directory. Do we have a file that contins a name of Capital of Britain?\", \n",
    "    chat_history=chat_history\n",
    ")"
   ]
  },
  {
   "cell_type": "code",
   "execution_count": 1,
   "id": "cbcb2942-9193-44aa-9634-141c98075d7f",
   "metadata": {},
   "outputs": [
    {
     "ename": "NameError",
     "evalue": "name 'agent' is not defined",
     "output_type": "error",
     "traceback": [
      "\u001b[0;31m---------------------------------------------------------------------------\u001b[0m",
      "\u001b[0;31mNameError\u001b[0m                                 Traceback (most recent call last)",
      "Cell \u001b[0;32mIn[1], line 1\u001b[0m\n\u001b[0;32m----> 1\u001b[0m \u001b[43magent\u001b[49m\n",
      "\u001b[0;31mNameError\u001b[0m: name 'agent' is not defined"
     ]
    }
   ],
   "source": [
    "agent"
   ]
  }
 ],
 "metadata": {
  "kernelspec": {
   "display_name": "Python 3 (ipykernel)",
   "language": "python",
   "name": "python3"
  },
  "language_info": {
   "codemirror_mode": {
    "name": "ipython",
    "version": 3
   },
   "file_extension": ".py",
   "mimetype": "text/x-python",
   "name": "python",
   "nbconvert_exporter": "python",
   "pygments_lexer": "ipython3",
   "version": "3.12.1"
  }
 },
 "nbformat": 4,
 "nbformat_minor": 5
}
