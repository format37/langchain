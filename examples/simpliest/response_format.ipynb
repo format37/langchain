{
 "cells": [
  {
   "cell_type": "code",
   "execution_count": 6,
   "metadata": {},
   "outputs": [],
   "source": [
    "# !pip install openai==1.40.0 "
   ]
  },
  {
   "cell_type": "code",
   "execution_count": 5,
   "metadata": {},
   "outputs": [
    {
     "data": {
      "text/plain": [
       "'1.40.0'"
      ]
     },
     "execution_count": 5,
     "metadata": {},
     "output_type": "execute_result"
    }
   ],
   "source": [
    "from pydantic import BaseModel\n",
    "import os\n",
    "import openai\n",
    "from openai import OpenAI\n",
    "\n",
    "\n",
    "openai.__version__"
   ]
  },
  {
   "cell_type": "code",
   "execution_count": 23,
   "metadata": {},
   "outputs": [],
   "source": [
    "class Examples(BaseModel):\n",
    "    example: str\n",
    "\n",
    "class Step(BaseModel):\n",
    "    explanation: str\n",
    "    examples: list[Examples]\n",
    "    output: str\n",
    "\n",
    "\n",
    "class MathResponse(BaseModel):\n",
    "    steps: list[Step]\n",
    "    final_answer: str"
   ]
  },
  {
   "cell_type": "code",
   "execution_count": 9,
   "metadata": {},
   "outputs": [],
   "source": [
    "os.environ[\"OPENAI_API_KEY\"] = \"\""
   ]
  },
  {
   "cell_type": "code",
   "execution_count": 10,
   "metadata": {},
   "outputs": [],
   "source": [
    "client = OpenAI()"
   ]
  },
  {
   "cell_type": "code",
   "execution_count": 24,
   "metadata": {},
   "outputs": [],
   "source": [
    "completion = client.beta.chat.completions.parse(\n",
    "    model=\"gpt-4o-2024-08-06\",\n",
    "    messages=[\n",
    "        {\"role\": \"system\", \"content\": \"You are a helpful math tutor.\"},\n",
    "        {\"role\": \"user\", \"content\": \"solve 8x + 31 = 2\"},\n",
    "    ],\n",
    "    response_format=MathResponse,\n",
    ")"
   ]
  },
  {
   "cell_type": "code",
   "execution_count": 25,
   "metadata": {},
   "outputs": [
    {
     "name": "stdout",
     "output_type": "stream",
     "text": [
      "[Step(explanation='Start by isolating the term with the variable (8x) on one side. To do that, subtract 31 from both sides of the equation.', examples=[Examples(example='8x + 31 - 31 = 2 - 31')], output='8x = 2 - 31'), Step(explanation='Subtract 31 from 2 to simplify the right side of the equation.', examples=[Examples(example='2 - 31 = -29')], output='8x = -29'), Step(explanation='Now, isolate x by dividing both sides of the equation by 8.', examples=[Examples(example='8x / 8 = -29 / 8')], output='x = -29/8'), Step(explanation='Simplify if needed. In this case, -29/8 is already in its simplest form.', examples=[Examples(example='-29/8')], output='x = -29/8')]\n",
      "x = -29/8\n"
     ]
    }
   ],
   "source": [
    "message = completion.choices[0].message\n",
    "if message.parsed:\n",
    "    print(message.parsed.steps)\n",
    "    print(message.parsed.final_answer)\n",
    "else:\n",
    "    print(message.refusal)"
   ]
  }
 ],
 "metadata": {
  "kernelspec": {
   "display_name": "Python 3",
   "language": "python",
   "name": "python3"
  },
  "language_info": {
   "codemirror_mode": {
    "name": "ipython",
    "version": 3
   },
   "file_extension": ".py",
   "mimetype": "text/x-python",
   "name": "python",
   "nbconvert_exporter": "python",
   "pygments_lexer": "ipython3",
   "version": "3.10.12"
  }
 },
 "nbformat": 4,
 "nbformat_minor": 2
}
